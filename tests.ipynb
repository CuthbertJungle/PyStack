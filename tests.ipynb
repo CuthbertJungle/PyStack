{
 "cells": [
  {
   "cell_type": "code",
   "execution_count": 1,
   "metadata": {},
   "outputs": [],
   "source": [
    "import os\n",
    "import sys\n",
    "# # sys.setrecursionlimit(10000)\n",
    "from time import time\n",
    "import numpy as np\n",
    "from Tree.tree_builder import tree_builder\n",
    "from Tree.tree_values import TreeValues\n",
    "# from Tree.strategy_filling import strategy_filling\n",
    "from Tree.tree_visualizer import tree_visualizer\n",
    "from Tree.tree_cfr import TreeCFR\n",
    "from helper_classes import TreeParams, Node\n",
    "from Game.card_to_string_conversion import card_to_string\n",
    "from Game.card_tools import card_tools\n",
    "from Settings.constants import constants\n",
    "from Settings.arguments import arguments\n",
    "from Settings.game_settings import game_settings\n",
    "# from Nn.value_nn import ValueNn\n",
    "# from Nn.next_round_value import NextRoundValue\n",
    "# from Nn.mock_nn_terminal import MockNnTerminal\n",
    "from TerminalEquity.terminal_equity import TerminalEquity\n",
    "# from Training.train import Train\n",
    "# from Tree.tree_strategy_filling import TreeStrategyFilling\n",
    "# from Game.Evaluation.evaluator import evaluator\n",
    "from Lookahead.resolving import Resolving\n",
    "from DataGeneration.random_card_generator import card_generator"
   ]
  },
  {
   "cell_type": "code",
   "execution_count": 2,
   "metadata": {},
   "outputs": [],
   "source": [
    "from tqdm import tqdm_notebook as tqdm\n",
    "import plotly as py\n",
    "import plotly.graph_objs as go"
   ]
  },
  {
   "cell_type": "markdown",
   "metadata": {},
   "source": [
    "# Random functions"
   ]
  },
  {
   "cell_type": "code",
   "execution_count": 3,
   "metadata": {},
   "outputs": [],
   "source": [
    "# card_to_string.string_to_board('KsKhJs')"
   ]
  },
  {
   "cell_type": "code",
   "execution_count": 4,
   "metadata": {},
   "outputs": [],
   "source": [
    "# card_tools.string_to_hole_index('Jh')"
   ]
  },
  {
   "cell_type": "code",
   "execution_count": 5,
   "metadata": {},
   "outputs": [],
   "source": [
    "# a = card_tools.get_next_round_boards(np.zeros([]))\n",
    "# a[-5:]"
   ]
  },
  {
   "cell_type": "code",
   "execution_count": 6,
   "metadata": {},
   "outputs": [],
   "source": [
    "# card_tools.get_last_boards_count(1)"
   ]
  },
  {
   "cell_type": "code",
   "execution_count": 7,
   "metadata": {},
   "outputs": [],
   "source": [
    "# card_tools.get_flop_board_index(np.array([10,20,30])-1)"
   ]
  },
  {
   "cell_type": "code",
   "execution_count": 8,
   "metadata": {},
   "outputs": [],
   "source": [
    "# card_tools.get_hole_index([11,14])"
   ]
  },
  {
   "cell_type": "code",
   "execution_count": 9,
   "metadata": {},
   "outputs": [],
   "source": [
    "# card_tools.get_board_index(np.array([2,20,30,40,10])-1)"
   ]
  },
  {
   "cell_type": "code",
   "execution_count": 10,
   "metadata": {},
   "outputs": [],
   "source": [
    "# evaluator.evaluate_seven_card_hand(np.array([2,4,8,16,32,15,7])-1)"
   ]
  },
  {
   "cell_type": "code",
   "execution_count": 11,
   "metadata": {},
   "outputs": [],
   "source": [
    "# a = np.arange(6*7).reshape([6,7])\n",
    "# evaluator.evaluate_fast(a)"
   ]
  },
  {
   "cell_type": "code",
   "execution_count": 12,
   "metadata": {},
   "outputs": [],
   "source": [
    "# evaluator.batch_eval_fast(np.array([0,1,2]))[783]"
   ]
  },
  {
   "cell_type": "code",
   "execution_count": 13,
   "metadata": {},
   "outputs": [],
   "source": [
    "PC = constants.players_count\n",
    "CC = game_settings.card_count\n",
    "HC = game_settings.hand_count\n",
    "P1 = constants.players.P1\n",
    "P2 = constants.players.P2"
   ]
  },
  {
   "cell_type": "markdown",
   "metadata": {},
   "source": [
    "# Tree Build"
   ]
  },
  {
   "cell_type": "code",
   "execution_count": 14,
   "metadata": {},
   "outputs": [],
   "source": [
    "# params = TreeParams()\n",
    "# first_node = Node()\n",
    "# first_node.board = np.zeros([], dtype=int)\n",
    "# first_node.street = 1\n",
    "# first_node.current_player = constants.players.P1\n",
    "# first_node.bets = np.array([50, 100], dtype=int)\n",
    "# first_node.num_bets = 0\n",
    "# params.root_node = first_node\n",
    "# params.limit_to_street = True\n",
    "\n",
    "# root = tree_builder.build_tree(params)"
   ]
  },
  {
   "cell_type": "code",
   "execution_count": 15,
   "metadata": {},
   "outputs": [],
   "source": [
    "# tree_visualizer.draw_tree(root, size='30,10', show_vars=True)"
   ]
  },
  {
   "cell_type": "markdown",
   "metadata": {},
   "source": [
    "# CFR"
   ]
  },
  {
   "cell_type": "code",
   "execution_count": 16,
   "metadata": {},
   "outputs": [],
   "source": [
    "# card_to_string.string_to_board('7d7c8s5sQd')"
   ]
  },
  {
   "cell_type": "code",
   "execution_count": 17,
   "metadata": {},
   "outputs": [],
   "source": [
    "def _generate_sorted_range(ranges):\n",
    "    batch_size = ranges.shape[0]\n",
    "    mass = np.ones([batch_size], dtype=np.float32)\n",
    "    _generate_recursion(ranges, mass)\n",
    "\n",
    "def _generate_recursion(cards, mass):\n",
    "    batch_size = cards.shape[0]\n",
    "    assert(mass.shape[0] == batch_size)\n",
    "    card_count = cards.shape[1]\n",
    "    # we terminate recursion at size of 1\n",
    "    if card_count == 1:\n",
    "        cards[ : , 0 ] = mass.copy()\n",
    "    else:\n",
    "        rand = np.random.rand(batch_size)\n",
    "        mass1 = mass.copy() * rand\n",
    "        mass2 = mass - mass1\n",
    "        halfSize = card_count / 2\n",
    "        # if the tensor contains an odd number of cards,\n",
    "        # randomize which way the middle card goes\n",
    "        if halfSize % 1 != 0:\n",
    "            # if end is .5 then init randomly between two numbers\n",
    "            halfSize = int(halfSize - 0.5)\n",
    "            halfSize = halfSize + np.random.randint(2) # (0 or 1)\n",
    "        halfSize = int(halfSize)\n",
    "\n",
    "        _generate_recursion(cards[ : , :halfSize ], mass1)\n",
    "        _generate_recursion(cards[ : , halfSize: ], mass2)"
   ]
  },
  {
   "cell_type": "code",
   "execution_count": 18,
   "metadata": {},
   "outputs": [],
   "source": [
    "# ranges = np.load('test_ranges/river_nl.npy')\n",
    "# player_range = ranges[0].reshape([1,-1])\n",
    "# opponent_range = ranges[1].reshape([1,-1])\n",
    "\n",
    "# def test(iters=np.linspace(100,2000,10, dtype=int), skip=arguments.cfr_skip_iters, kfold=5):\n",
    "#     kf = []\n",
    "#     for k in tqdm(range(kfold)):\n",
    "#         results = []\n",
    "#         for i in tqdm(iters, total=len(iters)):\n",
    "#             if i >= skip:\n",
    "#                 params = TreeParams()\n",
    "\n",
    "#                 ranges = np.zeros([1,1326])\n",
    "#                 _generate_sorted_range(ranges)\n",
    "#                 player_range = ranges.reshape([-1])\n",
    "#                 ranges = np.zeros([1,1326])\n",
    "#                 _generate_sorted_range(ranges)\n",
    "#                 opponent_range = ranges.reshape([-1])\n",
    "\n",
    "#                 params.root_node = Node()\n",
    "#                 params.root_node.board = card_generator.generate_cards(5) # card_to_string.string_to_board('6c6d2c2d3h')\n",
    "#                 params.root_node.street = 4\n",
    "#                 params.root_node.current_player = constants.players.P1 if np.random.rand() > 0.5 else constants.players.P2\n",
    "#                 r = np.random.randint(1,20000)\n",
    "#                 params.root_node.bets = np.array([r,r])\n",
    "#                 params.root_node.num_bets = 0\n",
    "\n",
    "#                 tree = tree_builder.build_tree(params)\n",
    "\n",
    "#                 starting_ranges = np.zeros([PC,HC], dtype=arguments.dtype)\n",
    "#                 starting_ranges[0] = player_range # card_tools.get_uniform_range(params.root_node.board)\n",
    "#                 starting_ranges[1] = opponent_range # card_tools.get_uniform_range(params.root_node.board)\n",
    "\n",
    "#                 t0 = time()\n",
    "#                 tree_cfr = TreeCFR()\n",
    "#                 # %lprun -f tree_cfr.cfrs_iter_dfs tree_cfr.run_cfr(tree, starting_ranges)\n",
    "#                 tree_cfr.run_cfr(tree, starting_ranges, iter_count=i, skip=i-skip)\n",
    "#                 print('Took time: {} for {} iters'.format(time()-t0, i))\n",
    "#                 time_ = time()-t0\n",
    "\n",
    "#                 tree_values = TreeValues()\n",
    "#                 tree_values.compute_values(tree, starting_ranges)\n",
    "\n",
    "#                 print('Exploitability: ' + str(tree.exploitability) + ' [chips]' )\n",
    "#                 results.append([i, time_, tree.exploitability])\n",
    "#         kf.append(np.array(results))\n",
    "#     return np.array(kf)"
   ]
  },
  {
   "cell_type": "code",
   "execution_count": 19,
   "metadata": {},
   "outputs": [],
   "source": [
    "# iters = [700]\n",
    "# skip = 300\n",
    "# ats = test(iters, skip=skip, kfold=30)"
   ]
  },
  {
   "cell_type": "code",
   "execution_count": 20,
   "metadata": {},
   "outputs": [],
   "source": [
    "# ats.shape\n",
    "# print(np.mean(ats, axis=0)[0,2], np.std(ats, axis=0)[0,2])"
   ]
  },
  {
   "cell_type": "code",
   "execution_count": 21,
   "metadata": {},
   "outputs": [],
   "source": [
    "# iters0 = np.linspace(0,1000,100, dtype=int)\n",
    "# # iters1 = np.linspace(550,1000,10, dtype=int)\n",
    "# iters1 = [700,800,900,1000]\n",
    "# skip0 = 300\n",
    "# skip1 = 300\n",
    "# kfold = 100"
   ]
  },
  {
   "cell_type": "code",
   "execution_count": 22,
   "metadata": {},
   "outputs": [],
   "source": [
    "# ats = test(iters0, skip=skip0, kfold=kfold)\n",
    "# x = ats[ : , : , 0]\n",
    "# y1 = ats[ : , : , 1]\n",
    "# y2 = ats[ : , : , 2]"
   ]
  },
  {
   "cell_type": "code",
   "execution_count": 23,
   "metadata": {},
   "outputs": [],
   "source": [
    "# ats = test(iters1, skip=skip1, kfold=kfold)\n",
    "# _x = ats[ : , : , 0]\n",
    "# _y1 = ats[ : , : , 1]\n",
    "# _y2 = ats[ : , : , 2]"
   ]
  },
  {
   "cell_type": "code",
   "execution_count": 24,
   "metadata": {},
   "outputs": [],
   "source": [
    "# lambd = 0.999\n",
    "# x = 1\n",
    "# for i in range(1000):\n",
    "#     x = lambd ** i\n",
    "#     if i == 999:\n",
    "#         print(x)"
   ]
  },
  {
   "cell_type": "code",
   "execution_count": 25,
   "metadata": {},
   "outputs": [],
   "source": [
    "# print(np.mean(x,axis=0))\n",
    "# print(np.mean(y2,axis=0))\n",
    "# print(np.std(y2,axis=0))"
   ]
  },
  {
   "cell_type": "code",
   "execution_count": 26,
   "metadata": {},
   "outputs": [],
   "source": [
    "# plot_2yaxis(x, y1, y2, _x, _y1, _y2, y_name='skip:{}'.format(skip0), comp_y_name='skip:{}'.format(skip1))\n",
    "# # plot_2yaxis(_x, _y1, _y2, y_name='skip:{}'.format(skip0), comp_y_name='skip:{}'.format(skip1))"
   ]
  },
  {
   "cell_type": "code",
   "execution_count": 27,
   "metadata": {},
   "outputs": [],
   "source": [
    "# import matplotlib.pyplot as plt\n",
    "\n",
    "# def plot_2yaxis(x, y1, y2, comp_x=None, comp_y1=None, comp_y2=None, y_name='', comp_y_name=''):\n",
    "#     fig, ax1 = plt.subplots()\n",
    "#     x = np.mean(x, axis=0)\n",
    "#     y1 = np.mean(y1, axis=0)\n",
    "\n",
    "#     ax1.plot(x, y1, 'b-')\n",
    "#     ax1.set_xlabel('# of iterations')\n",
    "#     ax1.set_ylabel('seconds', color='b')\n",
    "#     ax1.tick_params('y', colors='b')\n",
    "\n",
    "#     ax2 = ax1.twinx()\n",
    "#     mean = np.mean(y2, axis=0)\n",
    "#     std = np.mean(y2, axis=0)\n",
    "#     ax2.plot(x, mean, lw = 3, color='r', alpha = 0.8, label = y_name)\n",
    "#     y_low = mean - std\n",
    "#     y_high = mean + std\n",
    "#     ax2.fill_between(x, y_low, y_high, color='r', alpha = 0.1)\n",
    "#     ax2.set_ylabel('exploitability', color='r')\n",
    "#     ax2.tick_params('y', colors='r')\n",
    "\n",
    "#     if comp_x is not None:\n",
    "#         comp_x = np.mean(comp_x, axis=0)\n",
    "#         comp_y1 = np.mean(comp_y1, axis=0)\n",
    "\n",
    "#         ax1.plot(comp_x, comp_y1, 'b--')\n",
    "#         ax1.tick_params('y', colors='b')\n",
    "\n",
    "#         mean = np.mean(comp_y2, axis=0)\n",
    "#         std = np.mean(comp_y2, axis=0)\n",
    "#         ax2.plot(comp_x, mean, 'r--', lw = 3, alpha = 0.8, label = comp_y_name)\n",
    "#         y_low = mean - std\n",
    "#         y_high = mean + std\n",
    "#         ax2.fill_between(comp_x, y_low, y_high, color='g', alpha = 0.1)\n",
    "#         ax2.tick_params('y', colors='r')\n",
    "        \n",
    "# #         ax.grid()\n",
    "#     ax2.legend()\n",
    "#     fig.tight_layout()\n",
    "#     plt.show()"
   ]
  },
  {
   "cell_type": "code",
   "execution_count": 28,
   "metadata": {},
   "outputs": [],
   "source": [
    "# print(np.array2string(tree.strategy[:, 522:527], suppress_small=True, precision=5))"
   ]
  },
  {
   "cell_type": "markdown",
   "metadata": {},
   "source": [
    "# Flop nl"
   ]
  },
  {
   "cell_type": "code",
   "execution_count": 29,
   "metadata": {},
   "outputs": [],
   "source": [
    "%load_ext line_profiler"
   ]
  },
  {
   "cell_type": "code",
   "execution_count": 30,
   "metadata": {},
   "outputs": [
    {
     "name": "stdout",
     "output_type": "stream",
     "text": [
      "Build time: 0.004999637603759766\n",
      "times: [0.001 0.793 0.883 0.04  7.021 1.099 0.873 0.116]\n"
     ]
    },
    {
     "name": "stderr",
     "output_type": "stream",
     "text": [
      "C:\\Users\\domin\\Documents\\GitHub\\PyStack\\Lookahead\\lookahead.py:415: RuntimeWarning:\n",
      "\n",
      "invalid value encountered in true_divide\n",
      "\n"
     ]
    },
    {
     "name": "stdout",
     "output_type": "stream",
     "text": [
      "Resolve time: 10.842355728149414\n",
      "printing batch: 0\n",
      "root_cfvs - (16, 1326)\n",
      "[-4212.14 -4322.69 -4426.17 -1711.65 -1711.65 -1701.19]\n",
      "root_cfvs_both_players - (16, 2, 1326)\n",
      "[-4212.14 -4322.69 -4426.17 -1711.65 -1711.65 -1701.19]\n",
      "[-7416.12 -7370.56 -7378.47 -6971.93 -6971.93 -6835.54]\n",
      "achieved_cfvs - (16, 2, 1326)\n",
      "[-7416.12 -7370.56 -7378.47 -6971.93 -6971.93 -6835.54]\n",
      "[-4212.14 -4322.69 -4426.17 -1711.65 -1711.65 -1701.19]\n",
      "strategy - (3, 16, 1326)\n",
      "[[0.   0.   0.   0.   0.   0.  ]\n",
      " [0.02 0.02 0.02 0.99 0.99 0.99]\n",
      " [0.98 0.98 0.98 0.01 0.01 0.01]]\n"
     ]
    }
   ],
   "source": [
    "ranges = np.load('test_ranges/river_nl.npy')\n",
    "player_range = ranges[0].reshape([1,-1])\n",
    "opponent_range = ranges[1].reshape([1,-1])\n",
    "\n",
    "batch_size = 16\n",
    "player_range = np.tile(player_range, batch_size).reshape([batch_size,-1])\n",
    "opponent_range = np.tile(opponent_range, batch_size).reshape([batch_size,-1])\n",
    "\n",
    "current_node = Node()\n",
    "current_node.board = card_to_string.string_to_board('7d7c8s5sQd')\n",
    "current_node.street = 4\n",
    "current_node.current_player = constants.players.P2\n",
    "current_node.bets = np.array([8000, 8000], dtype=arguments.dtype)\n",
    "current_node.num_bets = 0\n",
    "\n",
    "te = TerminalEquity()\n",
    "te.set_board(current_node.board)\n",
    "\n",
    "resolving = Resolving(te, verbose=1)\n",
    "\n",
    "results = resolving.resolve(current_node, player_range, opponent_range) \n",
    "\n",
    "# %lprun -f resolving.lookahead._compute_current_strategies resolving.resolve(current_node, player_range, opponent_range) \n",
    "# %lprun -f resolving.lookahead._compute_ranges resolving.resolve(current_node, player_range, opponent_range) \n",
    "# %lprun -f resolving.lookahead._compute_terminal_equities_terminal_equity resolving.resolve(current_node, player_range, opponent_range) \n",
    "# %lprun -f resolving.lookahead._compute_terminal_equities_next_street_box resolving.resolve(current_node, player_range, opponent_range) \n",
    "# %lprun -f resolving.lookahead._compute_cfvs resolving.resolve(current_node, player_range, opponent_range) \n",
    "# %lprun -f resolving.lookahead._compute_regrets resolving.resolve(current_node, player_range, opponent_range) "
   ]
  },
  {
   "cell_type": "code",
   "execution_count": 31,
   "metadata": {},
   "outputs": [],
   "source": [
    "# [-7599.89 -7464.71 -7458.21 -7214.99 -7214.99 -7077.32]\n",
    "# [-2017.01 -2134.09 -2233.93 -1670.9  -1670.9  -1681.84]\n",
    "\n",
    "# (1, 1326) (1, 2, 1326)\n",
    "# [-4212.14 -4322.69 -4426.17 -1711.65 -1711.65 -1701.19]\n",
    "# [-4212.14 -4322.69 -4426.17 -1711.65 -1711.65 -1701.19]\n",
    "# (2, 1326)\n",
    "# [-7416.12 -7370.56 -7378.47 -6971.93 -6971.93 -6835.54]\n",
    "# [-4212.14 -4322.69 -4426.17 -1711.65 -1711.65 -1701.19]\n",
    "\n",
    "# [[0.45 0.45 0.45 0.   0.   0.  ]\n",
    "#  [0.53 0.54 0.54 0.98 0.98 0.99]\n",
    "#  [0.01 0.01 0.01 0.01 0.01 0.01]]\n",
    "\n",
    "# [[0.   0.   0.   0.   0.   0.  ]\n",
    "#  [0.02 0.02 0.02 0.99 0.99 0.99]\n",
    "#  [0.98 0.98 0.98 0.01 0.01 0.01]]"
   ]
  },
  {
   "cell_type": "markdown",
   "metadata": {},
   "source": [
    "# Batch size test"
   ]
  },
  {
   "cell_type": "code",
   "execution_count": 32,
   "metadata": {},
   "outputs": [],
   "source": [
    "# times = [16]\n",
    "# r = []\n",
    "# for _ in tqdm(range(50)):\n",
    "#     res = []\n",
    "#     for batch_size in tqdm(times, total=len(times)):\n",
    "#         I = 1326\n",
    "\n",
    "#         player_range = np.zeros([batch_size,I])\n",
    "#         _generate_sorted_range(player_range)\n",
    "#         opponent_range = np.zeros([batch_size,I])\n",
    "#         _generate_sorted_range(opponent_range)\n",
    "\n",
    "\n",
    "#         current_node = Node()\n",
    "#         current_node.board = card_to_string.string_to_board('7d7c8s5sQd')\n",
    "#         current_node.street = 4\n",
    "#         current_node.current_player = constants.players.P2\n",
    "#         current_node.bets = np.array([8000, 8000], dtype=arguments.dtype)\n",
    "#         current_node.num_bets = 0\n",
    "\n",
    "#         te = TerminalEquity()\n",
    "#         te.set_board(current_node.board)\n",
    "\n",
    "#         resolving = Resolving(te, verbose=1)\n",
    "\n",
    "#         results = resolving.resolve(current_node, player_range, opponent_range) \n",
    "#         res.append(results)\n",
    "#     r.append(np.array(res))"
   ]
  },
  {
   "cell_type": "code",
   "execution_count": 33,
   "metadata": {},
   "outputs": [],
   "source": [
    "# ats = np.array(r)\n",
    "# ats.shape\n",
    "# ats /= times\n",
    "# print(np.mean(ats,axis=0))\n",
    "# print(np.std(ats,axis=0))"
   ]
  },
  {
   "cell_type": "code",
   "execution_count": 34,
   "metadata": {},
   "outputs": [],
   "source": [
    "# ats2 = ats.copy()\n",
    "# ats = np.clip(ats,0,12)"
   ]
  },
  {
   "cell_type": "code",
   "execution_count": 35,
   "metadata": {},
   "outputs": [],
   "source": [
    "# import matplotlib.pyplot as plt\n",
    "# %matplotlib inline\n",
    "\n",
    "# x = times\n",
    "# y = np.array(ats)\n",
    "# mean = np.mean(y, axis=0)\n",
    "# std = np.std(y, axis=0)\n",
    "# print(mean, std)\n",
    "\n",
    "# fig, ax = plt.subplots()\n",
    "\n",
    "# ax.plot(x, mean, lw = 3, color='b', alpha = 0.8, label = '')\n",
    "# y_low = mean - std\n",
    "# y_high = mean + std\n",
    "# ax.fill_between(x, y_low, y_high, color='b', alpha = 0.1)\n",
    "\n",
    "# ax.set(xlabel='batches (nr)', ylabel='seconds (s)',\n",
    "#        title='solving batches w/ same board')\n",
    "# ax.grid()"
   ]
  },
  {
   "cell_type": "code",
   "execution_count": 36,
   "metadata": {},
   "outputs": [],
   "source": [
    "# import matplotlib.pyplot as plt\n",
    "\n",
    "# x = times\n",
    "# y = np.array(ats) / x\n",
    "# mean = np.mean(y, axis=0)\n",
    "# std = np.std(y, axis=0)\n",
    "\n",
    "# fig, ax = plt.subplots()\n",
    "\n",
    "# ax.plot(x, mean, lw = 3, color='b', alpha = 0.8, label = '')\n",
    "# y_low = mean - std\n",
    "# y_high = mean + std\n",
    "# ax.fill_between(x, y_low, y_high, color='b', alpha = 0.1)\n",
    "\n",
    "# ax.set(xlabel='batches (nr)', ylabel='seconds for 1 example (s)',\n",
    "#        title='solving batches w/ same board')\n",
    "# ax.grid()"
   ]
  },
  {
   "cell_type": "markdown",
   "metadata": {},
   "source": [
    "# Card and Range Generator"
   ]
  },
  {
   "cell_type": "code",
   "execution_count": 37,
   "metadata": {},
   "outputs": [],
   "source": [
    "# from DataGeneration.random_card_generator import card_generator\n",
    "# card_generator.generate_cards(6)"
   ]
  },
  {
   "cell_type": "code",
   "execution_count": 38,
   "metadata": {},
   "outputs": [],
   "source": [
    "# from DataGeneration.range_generator import RangeGenerator\n",
    "# r = RangeGenerator()\n",
    "# board = np.zeros([])\n",
    "# r.set_board(board)\n",
    "# BS,CC = 10,6\n",
    "# ranges = np.zeros([BS,CC])\n",
    "# r.generate_range(ranges)\n",
    "# print(np.array2string(ranges, suppress_small=True, precision=2))\n",
    "# print(np.array2string(np.sum(ranges, axis=1, keepdims=True), suppress_small=True, precision=2))"
   ]
  },
  {
   "cell_type": "markdown",
   "metadata": {},
   "source": [
    "# Lookahead (test 1)"
   ]
  },
  {
   "cell_type": "code",
   "execution_count": 39,
   "metadata": {},
   "outputs": [],
   "source": [
    "# params = TreeParams()\n",
    "# params.root_node = Node()\n",
    "# params.root_node.board = card_to_string.string_to_board('Ks')\n",
    "# params.root_node.street = 2\n",
    "# params.root_node.current_player = constants.players.P1\n",
    "# params.root_node.bets = np.array([100, 100])\n",
    "# params.limit_to_street = False\n",
    "# tree = tree_builder.build_tree(params)"
   ]
  },
  {
   "cell_type": "code",
   "execution_count": 40,
   "metadata": {},
   "outputs": [],
   "source": [
    "# from Tree.tree_strategy_filling import TreeStrategyFilling\n",
    "\n",
    "# filling = TreeStrategyFilling()\n",
    "\n",
    "# range1 = card_tools.get_uniform_range(params.root_node.board)\n",
    "# range2 = card_tools.get_uniform_range(params.root_node.board)\n",
    "\n",
    "# filling.fill_strategies(tree, P1, range1, range2)\n",
    "# filling.fill_strategies(tree, P2, range1, range2)"
   ]
  },
  {
   "cell_type": "code",
   "execution_count": 41,
   "metadata": {},
   "outputs": [],
   "source": [
    "# starting_ranges = np.zeros([PC,CC], dtype=arguments.dtype)\n",
    "# starting_ranges[0] = card_tools.get_uniform_range(params.root_node.board)\n",
    "# starting_ranges[1] = card_tools.get_uniform_range(params.root_node.board)\n",
    "\n",
    "# tree_values = TreeValues()\n",
    "# tree_values.compute_values(tree, starting_ranges)\n",
    "\n",
    "# print('Exploitability: ' + str(tree.exploitability) + ' [chips]' )"
   ]
  },
  {
   "cell_type": "markdown",
   "metadata": {},
   "source": [
    "# Next Round Value Bucketing test"
   ]
  },
  {
   "cell_type": "code",
   "execution_count": 42,
   "metadata": {},
   "outputs": [],
   "source": [
    "# next_round_value = NextRoundValue(None)\n",
    "# print(next_round_value._range_matrix)\n",
    "# # test of card to bucket range translation\n",
    "# range_ = np.arange(1,7).reshape([1,-1]).astype(float)\n",
    "# next_round_range = np.zeros([1, next_round_value.bucket_count * next_round_value.board_count], dtype=arguments.dtype)\n",
    "# next_round_value._card_range_to_bucket_range(range_, next_round_range)\n",
    "# print(next_round_range)"
   ]
  },
  {
   "cell_type": "markdown",
   "metadata": {},
   "source": [
    "# Next Round Value (mock test)"
   ]
  },
  {
   "cell_type": "code",
   "execution_count": 43,
   "metadata": {},
   "outputs": [],
   "source": [
    "# # # test of get_value functionality\n",
    "# mock_nn = MockNnTerminal()\n",
    "# # mock_nn = ValueNn()\n",
    "# next_round_value = NextRoundValue(mock_nn)\n",
    "\n",
    "# # bets = np.array([100], dtype=float)\n",
    "# bets = np.array([1200], dtype=float)\n",
    "\n",
    "# next_round_value.start_computation(bets)\n",
    "\n",
    "# ranges = np.full([1,2,CC], 1/4, dtype=arguments.dtype)\n",
    "# values = np.zeros([1,2,CC], dtype=arguments.dtype)\n",
    "\n",
    "# np.random.seed(0)\n",
    "# ranges[0][0] = np.array([1,1,0,0,0,0])\n",
    "# ranges[0][1] = np.array([1,1,1,1,1,1])\n",
    "\n",
    "# next_round_value.get_value(ranges, values)\n",
    "\n",
    "# print(values)\n",
    "\n",
    "# ranges_2 = ranges.reshape([2,CC]).copy()\n",
    "# values_2 = np.full_like(ranges_2, -1)\n",
    "\n",
    "# terminal_equity = TerminalEquity()\n",
    "# terminal_equity.set_board(np.zeros([]))\n",
    "# terminal_equity.call_value(ranges_2, values_2)\n",
    "# print('terminal_equity')\n",
    "# print(values_2)\n",
    "\n",
    "# # output:\n",
    "# # [[[ 2.  2.  0.  0. -2. -2.]\n",
    "# #   [ 0.  0. -1. -1. -1. -1.]]]\n",
    "# # terminal_equity\n",
    "# # [[ 0.  0. -1. -1. -1. -1.]\n",
    "# #  [ 2.  2.  0.  0. -2. -2.]]"
   ]
  },
  {
   "cell_type": "code",
   "execution_count": 44,
   "metadata": {},
   "outputs": [],
   "source": [
    "# # needs to comment out some asserts and use_memory = True\n",
    "\n",
    "# board = card_to_string.string_to_board('Ks')\n",
    "\n",
    "# values_3 = np.full_like(values, -1)\n",
    "# next_round_value.get_value_on_board(board, values_3)\n",
    "\n",
    "# print(values_3)\n",
    "\n",
    "# # output:\n",
    "# # [[[ 0.2  0.2  0.   0.8 -0.6 -0.6]\n",
    "# #   [ 0.   0.   0.   1.  -1.  -1. ]]]"
   ]
  },
  {
   "cell_type": "markdown",
   "metadata": {},
   "source": [
    "# Nn output"
   ]
  },
  {
   "cell_type": "code",
   "execution_count": 45,
   "metadata": {},
   "outputs": [],
   "source": [
    "# data_dir = os.path.join(arguments.data_path, 'tfrecords')\n",
    "# T = Train(data_dir=data_dir)\n",
    "# T.train(num_epochs=100, verbose=0)\n",
    "# model = T.keras_model"
   ]
  },
  {
   "cell_type": "code",
   "execution_count": 46,
   "metadata": {},
   "outputs": [],
   "source": [
    "# npy_folder = r'C:\\Users\\domin\\Documents\\GitHub\\PyStack\\Data\\TrainSamples\\PotBet\\npy'\n",
    "# m = np.load(npy_folder + r'\\masks.0.npy')\n",
    "# x = np.load(npy_folder + r'\\inputs.0.npy')\n",
    "# y = np.load(npy_folder + r'\\targets.0.npy')\n",
    "\n",
    "# y_hat = model.predict(x)\n",
    "\n",
    "# temp = m[0]\n",
    "# m = np.zeros([72])\n",
    "# m[:36] = temp\n",
    "# m[36:] = temp\n",
    "# x = x[0]\n",
    "# y = y[0]\n",
    "# y_hat = y_hat[0]\n",
    "\n",
    "# d = np.dot(y_hat, x[:-1])\n",
    "# d /= 2\n",
    "# y_new = y_hat - d\n",
    "# y_new = y_hat\n",
    "\n",
    "# (y_new*m)[:36] - (y_new*m)[36:]"
   ]
  },
  {
   "cell_type": "markdown",
   "metadata": {},
   "source": [
    "# Continual Re-solving in Tree"
   ]
  },
  {
   "cell_type": "code",
   "execution_count": 47,
   "metadata": {},
   "outputs": [],
   "source": [
    "# board = card_to_string.string_to_board('')"
   ]
  },
  {
   "cell_type": "code",
   "execution_count": 48,
   "metadata": {},
   "outputs": [],
   "source": [
    "# params = TreeParams()\n",
    "# params.root_node = Node()\n",
    "# params.root_node.board = board\n",
    "# params.root_node.street = 1\n",
    "# params.root_node.current_player = constants.players.P1\n",
    "# params.root_node.bets = np.array([300, 300])\n",
    "# params.limit_to_street = False\n",
    "# tree = tree_builder.build_tree(params)"
   ]
  },
  {
   "cell_type": "code",
   "execution_count": 49,
   "metadata": {},
   "outputs": [],
   "source": [
    "# filling = TreeStrategyFilling()\n",
    "\n",
    "# range1 = card_tools.get_uniform_range(board)\n",
    "# range2 = card_tools.get_uniform_range(board)\n",
    "\n",
    "# filling.fill_strategies(tree, P1, range1, range2)\n",
    "# filling.fill_strategies(tree, P2, range1, range2)"
   ]
  },
  {
   "cell_type": "code",
   "execution_count": 50,
   "metadata": {},
   "outputs": [],
   "source": [
    "# starting_ranges = np.zeros([PC,CC], dtype=arguments.dtype)\n",
    "# starting_ranges[0] = card_tools.get_uniform_range(params.root_node.board)\n",
    "# starting_ranges[1] = card_tools.get_uniform_range(params.root_node.board)\n",
    "\n",
    "# tree_values = TreeValues()\n",
    "# tree_values.compute_values(tree, starting_ranges)\n",
    "\n",
    "# print('Exploitability: ' + str(tree.exploitability) + ' [chips]' )"
   ]
  },
  {
   "cell_type": "code",
   "execution_count": 51,
   "metadata": {},
   "outputs": [],
   "source": [
    "# tree_visualizer.draw_tree(tree, size='20,10')"
   ]
  },
  {
   "cell_type": "markdown",
   "metadata": {},
   "source": [
    "# Range generation"
   ]
  },
  {
   "cell_type": "code",
   "execution_count": 52,
   "metadata": {},
   "outputs": [],
   "source": [
    "# import plotly.plotly as py\n",
    "# import plotly.graph_objs as go\n",
    "# def plot(x, x2=None, num_buckets=1000, clip=10, title='', x_name='', x2_name=''):\n",
    "#     bins = np.linspace(0, 1, num_buckets)\n",
    "#     inds = np.digitize(x, bins)\n",
    "#     bucketized_x = bins[ inds ]\n",
    "#     bucketized_x_counts = np.zeros([I, num_buckets])\n",
    "#     for i in range(bucketized_x.shape[1]):\n",
    "#         x_, counts = np.unique(bucketized_x[:,i], return_counts=True)\n",
    "#         bucketized_x_counts[i, :len(counts) ] = counts\n",
    "# #     bucketized_x_counts /= x.shape[0]\n",
    "#     bucketized_x_counts = np.transpose(bucketized_x_counts, [1,0])\n",
    "#     bucketized_x_counts = bucketized_x_counts[ :clip , : ]\n",
    "#     x_axis = bins\n",
    "#     x_axis = x_axis[:clip]\n",
    "    \n",
    "#     data = []\n",
    "    \n",
    "#     data.append(go.Surface(\n",
    "#                     z=bucketized_x_counts,\n",
    "#                     y=x_axis,\n",
    "#                     name=x_name\n",
    "#                 ))\n",
    "    \n",
    "#     if x2 is not None:\n",
    "#         inds = np.digitize(x2, bins)\n",
    "#         bucketized_x = bins[ inds ]\n",
    "#         bucketized_x_counts = np.zeros([I, num_buckets])\n",
    "#         for i in range(bucketized_x.shape[1]):\n",
    "#             x_, counts = np.unique(bucketized_x[:,i], return_counts=True)\n",
    "#             bucketized_x_counts[i, :len(counts) ] = counts\n",
    "# #         bucketized_x_counts /= x.shape[0]\n",
    "#         bucketized_x_counts = np.transpose(bucketized_x_counts, [1,0])\n",
    "#         bucketized_x_counts = bucketized_x_counts[ :clip , : ]\n",
    "#         data.append(go.Surface(\n",
    "#                     z=bucketized_x_counts,\n",
    "#                     y=x_axis,\n",
    "#                     name=x2_name\n",
    "#                 ))\n",
    "    \n",
    "#     layout = go.Layout(\n",
    "#         showlegend=True,\n",
    "#         title=title,\n",
    "#         autosize=False,\n",
    "#         width=500,\n",
    "#         height=500,\n",
    "#         margin=dict(\n",
    "#             l=65,\n",
    "#             r=50,\n",
    "#             b=65,\n",
    "#             t=90\n",
    "#         ),\n",
    "#         xaxis=dict(\n",
    "#             tickmode='linear',\n",
    "#             ticks='outside',\n",
    "#             tick0=0,\n",
    "#             dtick=1/num_buckets,\n",
    "#             ticklen=1,\n",
    "# #             tickcolor='#000'\n",
    "#         )\n",
    "#     )\n",
    "#     fig = go.Figure(data=data, layout=layout)\n",
    "#     return py.iplot(fig, filename='elevations-3d-surface')"
   ]
  },
  {
   "cell_type": "code",
   "execution_count": 53,
   "metadata": {},
   "outputs": [],
   "source": [
    "# x = np.random.rand(batch_size,I)\n",
    "# x = x / np.sum(x, axis=1).reshape([batch_size,1])\n",
    "# plot(x, num_buckets=num_buckets, clip=clip)"
   ]
  },
  {
   "cell_type": "code",
   "execution_count": 54,
   "metadata": {},
   "outputs": [],
   "source": [
    "# I = 100\n",
    "# batch_size = 1000\n",
    "# ranges = np.zeros([batch_size,I])\n",
    "# _generate_sorted_range(ranges)\n",
    "# ranges\n",
    "# x = ranges[ : , 0 ]\n",
    "# y = np.arange(len(x))\n",
    "# scatterplot(x,y)"
   ]
  },
  {
   "cell_type": "code",
   "execution_count": 55,
   "metadata": {},
   "outputs": [],
   "source": [
    "# x = np.random.rand(batch_size,I)\n",
    "# x = x / np.sum(x, axis=1).reshape([batch_size,1])\n",
    "# x = x[ : , 2 ]\n",
    "# scatterplot(x,y)"
   ]
  },
  {
   "cell_type": "code",
   "execution_count": 56,
   "metadata": {},
   "outputs": [],
   "source": [
    "def scatterplot(x, y):\n",
    "    trace = go.Scatter(\n",
    "        x = x,\n",
    "        y = y,\n",
    "        mode = 'markers'\n",
    "    )\n",
    "\n",
    "    data = [trace]\n",
    "\n",
    "    return py.iplot(data, filename='basic-scatter')"
   ]
  },
  {
   "cell_type": "code",
   "execution_count": 57,
   "metadata": {},
   "outputs": [],
   "source": [
    "def to_buckets2d(x, num_buckets, clip):\n",
    "    bins = np.linspace(0, 1, num_buckets)\n",
    "    inds = np.digitize(x, bins)\n",
    "    bucketized_x = bins[ inds ]\n",
    "    bucketized_x_counts = np.zeros([I, num_buckets])\n",
    "    for i in range(bucketized_x.shape[1]):\n",
    "        x_, counts = np.unique(bucketized_x[:,i], return_counts=True)\n",
    "        bucketized_x_counts[i, :len(counts) ] = counts\n",
    "    bucketized_x_counts /= batch_size\n",
    "    bucketized_x_counts = np.mean(bucketized_x_counts, axis=0)\n",
    "    bucketized_x_counts = bucketized_x_counts[ :clip ]\n",
    "    bins = bins[ :clip ]\n",
    "    return bucketized_x_counts, bins"
   ]
  },
  {
   "cell_type": "code",
   "execution_count": 58,
   "metadata": {},
   "outputs": [],
   "source": [
    "def plot2d(x1, x2, bins, x1_name='', x2_name=''):\n",
    "    trace1 = go.Scatter(\n",
    "        x = bins,\n",
    "        y = x1,\n",
    "        mode = 'lines',\n",
    "        name = x1_name\n",
    "    )\n",
    "    trace2 = go.Scatter(\n",
    "        x = bins,\n",
    "        y = x2,\n",
    "        mode = 'lines',\n",
    "        name = x2_name\n",
    "    )\n",
    "\n",
    "    data = [trace1, trace2]\n",
    "    return py.iplot(data, filename='scatter-mode')"
   ]
  },
  {
   "cell_type": "code",
   "execution_count": 59,
   "metadata": {},
   "outputs": [],
   "source": [
    "# I = 1300\n",
    "# batch_size = 10000\n",
    "# clip = 1000\n",
    "# num_buckets = 10000\n",
    "# ranges = np.zeros([batch_size,I])\n",
    "# _generate_sorted_range(ranges)\n",
    "# x = np.random.rand(batch_size,I)\n",
    "# x = x / np.sum(x, axis=1).reshape([batch_size,1])\n",
    "# x1, bins = to_buckets2d(x, num_buckets, clip)\n",
    "# x2, bins = to_buckets2d(ranges, num_buckets, clip)\n",
    "# plot2d(x1, x2, bins, x1_name='Random', x2_name='Recursive')"
   ]
  },
  {
   "cell_type": "code",
   "execution_count": 60,
   "metadata": {},
   "outputs": [],
   "source": [
    "\n",
    "# ranges = np.zeros([batch_size,I])\n",
    "# _generate_sorted_range(ranges)\n",
    "# x = np.random.rand(batch_size,I)\n",
    "# x = x / np.sum(x, axis=1).reshape([batch_size,1])\n",
    "# plot(x, x2=ranges, num_buckets=num_buckets, clip=clip, x2_name='Recursive', x_name='Random')"
   ]
  },
  {
   "cell_type": "code",
   "execution_count": 61,
   "metadata": {},
   "outputs": [],
   "source": [
    "# bucketized_x_counts = np.zeros([I, num_buckets])\n",
    "# for i in range(bucketized_x.shape[1]):\n",
    "#     x_, counts = np.unique(bucketized_x[:,i], return_counts=True)\n",
    "#     bucketized_x_counts[i, :len(counts) ] = counts\n",
    "# bucketized_x_counts /= el\n",
    "# bucketized_x_counts = np.transpose(bucketized_x_counts, [1,0])"
   ]
  },
  {
   "cell_type": "code",
   "execution_count": 62,
   "metadata": {},
   "outputs": [],
   "source": [
    "# x_axis = bins"
   ]
  },
  {
   "cell_type": "code",
   "execution_count": 63,
   "metadata": {},
   "outputs": [],
   "source": [
    "# clip = 10\n",
    "# bucketized_x_counts = bucketized_x_counts[ :clip , : ]\n",
    "# x_axis = x_axis[:clip]"
   ]
  },
  {
   "cell_type": "code",
   "execution_count": 64,
   "metadata": {},
   "outputs": [],
   "source": [
    "# print(bucketized_x_counts.shape)\n",
    "# print(x_axis.shape)"
   ]
  }
 ],
 "metadata": {
  "kernelspec": {
   "display_name": "tensorflow",
   "language": "python",
   "name": "tensorflow"
  },
  "language_info": {
   "codemirror_mode": {
    "name": "ipython",
    "version": 3
   },
   "file_extension": ".py",
   "mimetype": "text/x-python",
   "name": "python",
   "nbconvert_exporter": "python",
   "pygments_lexer": "ipython3",
   "version": "3.6.6"
  }
 },
 "nbformat": 4,
 "nbformat_minor": 2
}
