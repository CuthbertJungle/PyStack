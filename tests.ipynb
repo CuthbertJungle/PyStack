{
 "cells": [
  {
   "cell_type": "code",
   "execution_count": 1,
   "metadata": {},
   "outputs": [],
   "source": [
    "# import sys\n",
    "# sys.setrecursionlimit(10000)\n",
    "from time import time\n",
    "import numpy as np\n",
    "from Tree.tree_builder import tree_builder\n",
    "from Tree.tree_values import TreeValues\n",
    "from Tree.strategy_filling import strategy_filling\n",
    "from Tree.tree_visualizer import tree_visualizer\n",
    "from Tree.tree_cfr import TreeCFR\n",
    "from helper_classes import TreeParams, Node\n",
    "from Game.card_to_string_conversion import card_to_string\n",
    "from Game.card_tools import card_tools\n",
    "from Settings.constants import constants\n",
    "from Settings.arguments import arguments\n",
    "from Settings.game_settings import game_settings"
   ]
  },
  {
   "cell_type": "code",
   "execution_count": 2,
   "metadata": {},
   "outputs": [],
   "source": [
    "PC = constants.players_count\n",
    "CC = game_settings.card_count"
   ]
  },
  {
   "cell_type": "markdown",
   "metadata": {},
   "source": [
    "# Tree Build"
   ]
  },
  {
   "cell_type": "code",
   "execution_count": 3,
   "metadata": {},
   "outputs": [],
   "source": [
    "# params = TreeParams()\n",
    "# params.limit_to_street = True\n",
    "# first_node = Node()\n",
    "# first_node.board = np.zeros([], dtype=int)\n",
    "# first_node.street = 1\n",
    "# first_node.current_player = constants.players.P1\n",
    "# first_node.bets = np.array([arguments.ante, arguments.ante], dtype=int)\n",
    "# params.root_node = first_node\n",
    "# params.limit_to_street = True\n",
    "\n",
    "# root = tree_builder.build_tree(params)\n",
    "# strategy_filling.fill_uniform(root)"
   ]
  },
  {
   "cell_type": "code",
   "execution_count": 4,
   "metadata": {},
   "outputs": [],
   "source": [
    "# tree_visualizer.draw_tree(root, size='30,10', show_vars=True)"
   ]
  },
  {
   "cell_type": "code",
   "execution_count": 5,
   "metadata": {},
   "outputs": [],
   "source": [
    "# params = TreeParams()\n",
    "# params.root_node = Node()\n",
    "# params.root_node.board = card_to_string.string_to_board('Ks')\n",
    "# params.root_node.street = 2\n",
    "# params.root_node.current_player = constants.players.P2\n",
    "# params.root_node.bets = np.array([300, 300])\n",
    "# params.limit_to_street = False\n",
    "# root = tree_builder.build_tree(params)\n",
    "# tree_visualizer.draw_tree(root, size='20,10')"
   ]
  },
  {
   "cell_type": "markdown",
   "metadata": {},
   "source": [
    "# Exploitability"
   ]
  },
  {
   "cell_type": "code",
   "execution_count": 6,
   "metadata": {},
   "outputs": [],
   "source": [
    "# params = TreeParams()\n",
    "\n",
    "# params.root_node = Node()\n",
    "# params.root_node.board = card_to_string.string_to_board('')\n",
    "# params.root_node.street = 1\n",
    "# params.root_node.current_player = constants.players.P1\n",
    "# params.root_node.bets = np.array([100, 100])\n",
    "\n",
    "# tree = tree_builder.build_tree(params)\n",
    "\n",
    "# tree_values = TreeValues()\n",
    "\n",
    "# starting_ranges = np.zeros([PC,CC], dtype=arguments.dtype)\n",
    "# starting_ranges[0] = card_tools.get_uniform_range(params.root_node.board)\n",
    "# starting_ranges[1] = card_tools.get_uniform_range(params.root_node.board)\n",
    "\n",
    "# tree_values.compute_values(tree, starting_ranges)\n",
    "\n",
    "# print('Exploitability: ' + str(tree.exploitability) + ' [chips]' )"
   ]
  },
  {
   "cell_type": "markdown",
   "metadata": {},
   "source": [
    "# CFR"
   ]
  },
  {
   "cell_type": "code",
   "execution_count": 7,
   "metadata": {},
   "outputs": [],
   "source": [
    "# params = TreeParams()\n",
    "\n",
    "# params.root_node = Node()\n",
    "# params.root_node.board = card_to_string.string_to_board('')\n",
    "# params.root_node.street = 1\n",
    "# params.root_node.current_player = constants.players.P1\n",
    "# params.root_node.bets = np.array([100, 100])\n",
    "\n",
    "# tree = tree_builder.build_tree(params)\n",
    "\n",
    "# starting_ranges = np.zeros([PC,CC], dtype=arguments.dtype)\n",
    "# starting_ranges[0] = card_tools.get_uniform_range(params.root_node.board)\n",
    "# starting_ranges[1] = card_tools.get_uniform_range(params.root_node.board)\n",
    "\n",
    "# t0 = time()\n",
    "# tree_cfr = TreeCFR()\n",
    "# %lprun -f tree_cfr.cfrs_iter_dfs tree_cfr.run_cfr(tree, starting_ranges)\n",
    "# print('Took time: {} for {} iters'.format(time()-t0, arguments.cfr_iters))\n",
    "\n",
    "# tree_values = TreeValues()\n",
    "# tree_values.compute_values(tree, starting_ranges)\n",
    "\n",
    "# print('Exploitability: ' + str(tree.exploitability) + ' [chips]' )"
   ]
  },
  {
   "cell_type": "markdown",
   "metadata": {},
   "source": [
    "# Card and Range Generator"
   ]
  },
  {
   "cell_type": "code",
   "execution_count": 8,
   "metadata": {},
   "outputs": [
    {
     "data": {
      "text/plain": [
       "array([5, 1, 3, 2, 4, 0])"
      ]
     },
     "execution_count": 8,
     "metadata": {},
     "output_type": "execute_result"
    }
   ],
   "source": [
    "from DataGeneration.random_card_generator import card_generator\n",
    "card_generator.generate_cards(6)"
   ]
  },
  {
   "cell_type": "code",
   "execution_count": 20,
   "metadata": {},
   "outputs": [
    {
     "name": "stdout",
     "output_type": "stream",
     "text": [
      "[[0.21 0.38 0.16 0.02 0.   0.23]\n",
      " [0.08 0.05 0.09 0.61 0.05 0.12]\n",
      " [0.22 0.5  0.09 0.07 0.1  0.03]\n",
      " [0.08 0.12 0.74 0.   0.02 0.03]\n",
      " [0.02 0.   0.04 0.2  0.02 0.72]\n",
      " [0.09 0.1  0.55 0.03 0.01 0.22]\n",
      " [0.   0.05 0.06 0.25 0.09 0.53]\n",
      " [0.06 0.32 0.28 0.03 0.2  0.1 ]\n",
      " [0.13 0.13 0.01 0.44 0.1  0.2 ]\n",
      " [0.01 0.08 0.62 0.02 0.17 0.1 ]]\n",
      "[[1.]\n",
      " [1.]\n",
      " [1.]\n",
      " [1.]\n",
      " [1.]\n",
      " [1.]\n",
      " [1.]\n",
      " [1.]\n",
      " [1.]\n",
      " [1.]]\n"
     ]
    }
   ],
   "source": [
    "from DataGeneration.range_generator import RangeGenerator\n",
    "r = RangeGenerator()\n",
    "board = np.zeros([])\n",
    "r.set_board(board)\n",
    "BS,CC = 10,6\n",
    "ranges = np.zeros([BS,CC])\n",
    "r.generate_range(ranges)\n",
    "print(np.array2string(ranges, suppress_small=True, precision=2))\n",
    "print(np.array2string(np.sum(ranges, axis=1, keepdims=True), suppress_small=True, precision=2))"
   ]
  },
  {
   "cell_type": "code",
   "execution_count": null,
   "metadata": {},
   "outputs": [],
   "source": []
  }
 ],
 "metadata": {
  "kernelspec": {
   "display_name": "'main'",
   "language": "python",
   "name": "main"
  },
  "language_info": {
   "codemirror_mode": {
    "name": "ipython",
    "version": 3
   },
   "file_extension": ".py",
   "mimetype": "text/x-python",
   "name": "python",
   "nbconvert_exporter": "python",
   "pygments_lexer": "ipython3",
   "version": "3.6.5"
  }
 },
 "nbformat": 4,
 "nbformat_minor": 2
}
