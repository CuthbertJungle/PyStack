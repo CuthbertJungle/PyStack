{
 "cells": [
  {
   "cell_type": "code",
   "execution_count": 1,
   "metadata": {},
   "outputs": [],
   "source": [
    "import os\n",
    "import sys\n",
    "# # sys.setrecursionlimit(10000)\n",
    "from time import time\n",
    "import numpy as np\n",
    "from Tree.tree_builder import tree_builder\n",
    "from Tree.tree_values import TreeValues\n",
    "# from Tree.strategy_filling import strategy_filling\n",
    "from Tree.tree_visualizer import tree_visualizer\n",
    "from Tree.tree_cfr import TreeCFR\n",
    "from helper_classes import TreeParams, Node\n",
    "from Game.card_to_string_conversion import card_to_string\n",
    "from Game.card_tools import card_tools\n",
    "from Settings.constants import constants\n",
    "from Settings.arguments import arguments\n",
    "from Settings.game_settings import game_settings\n",
    "# from Nn.value_nn import ValueNn\n",
    "# from Nn.next_round_value import NextRoundValue\n",
    "# from Nn.mock_nn_terminal import MockNnTerminal\n",
    "from TerminalEquity.terminal_equity import TerminalEquity\n",
    "# from Training.train import Train\n",
    "# from Tree.tree_strategy_filling import TreeStrategyFilling\n",
    "from Game.Evaluation.evaluator import evaluator\n",
    "from Lookahead.resolving import Resolving\n",
    "from DataGeneration.range_generator import RangeGenerator\n",
    "from tools import tools"
   ]
  },
  {
   "cell_type": "code",
   "execution_count": 2,
   "metadata": {},
   "outputs": [],
   "source": [
    "from tqdm import tqdm_notebook as tqdm\n",
    "# import plotly as py\n",
    "# import plotly.graph_objs as go\n",
    "%load_ext line_profiler"
   ]
  },
  {
   "cell_type": "code",
   "execution_count": 3,
   "metadata": {},
   "outputs": [],
   "source": [
    "PC = constants.players_count\n",
    "CC = game_settings.card_count\n",
    "HC = game_settings.hand_count\n",
    "P1 = constants.players.P1\n",
    "P2 = constants.players.P2"
   ]
  },
  {
   "cell_type": "markdown",
   "metadata": {},
   "source": [
    "# turn lookahead"
   ]
  },
  {
   "cell_type": "code",
   "execution_count": 4,
   "metadata": {},
   "outputs": [],
   "source": [
    "# board = card_to_string.string_to_board('3c5h4h3h')\n",
    "# a = card_tools.get_last_round_boards(board) + 1\n",
    "# a"
   ]
  },
  {
   "cell_type": "code",
   "execution_count": 17,
   "metadata": {},
   "outputs": [],
   "source": [
    "import tensorflow as tf\n",
    "config = tf.ConfigProto()\n",
    "config.graph_options.optimizer_options.global_jit_level = tf.OptimizerOptions.ON_1\n",
    "sess = tf.Session(config=config)\n",
    "tf.keras.backend.set_session(sess)"
   ]
  },
  {
   "cell_type": "code",
   "execution_count": 18,
   "metadata": {},
   "outputs": [
    {
     "name": "stdout",
     "output_type": "stream",
     "text": [
      "{-1: 0, 20000: 1}\n",
      "Build time: 7.571495056152344\n"
     ]
    },
    {
     "name": "stderr",
     "output_type": "stream",
     "text": [
      "100%|████████████████████████████████████████████████████████████████████████████████| 800/800 [00:31<00:00, 25.54it/s]\n"
     ]
    },
    {
     "name": "stdout",
     "output_type": "stream",
     "text": [
      "times: [ 0.158  0.362  0.237  0.008 30.023  0.251  0.266  0.016]\n",
      "Resolve time: 31.3424711227417\n",
      "printing batch: 0\n",
      "root_cfvs - (2, 1326)\n",
      "[-11153.59 -11164.77  -8139.46  -7680.81  -7782.83  -7756.71]\n",
      "root_cfvs_both_players - (2, 2, 1326)\n",
      "[-11153.59 -11164.77  -8139.46  -7680.81  -7782.83  -7756.71]\n",
      "[-5511.98 -5481.94 -3213.64  -809.07  -692.24  -755.96]\n",
      "achieved_cfvs - (2, 2, 1326)\n",
      "[-5511.98 -5481.94 -3213.64  -809.07  -692.24  -755.96]\n",
      "[-11153.59 -11164.77  -8139.46  -7680.81  -7782.83  -7756.71]\n",
      "strategy - (3, 2, 1326)\n",
      "[[0. 0. 0. 0. 0. 0.]\n",
      " [1. 1. 0. 1. 1. 1.]\n",
      " [0. 0. 1. 0. 0. 0.]]\n"
     ]
    }
   ],
   "source": [
    "res = []\n",
    "batch_size = 2\n",
    "ranges = np.load('test_ranges/turn_nl.npy')\n",
    "player_range = ranges[0].reshape([1,-1])\n",
    "opponent_range = ranges[1].reshape([1,-1])\n",
    "\n",
    "current_node = Node()\n",
    "current_node.board = card_to_string.string_to_board('7d7c8s5s')\n",
    "current_node.street = 3\n",
    "current_node.current_player = constants.players.P2\n",
    "current_node.bets = np.array([10000, 10000], dtype=arguments.dtype)\n",
    "current_node.num_bets = 0\n",
    "\n",
    "te = TerminalEquity()\n",
    "te.set_board(current_node.board)\n",
    "\n",
    "range_generator = RangeGenerator()\n",
    "range_generator.set_board(te, current_node.board)\n",
    "\n",
    "player_range = np.zeros([batch_size,1326])\n",
    "range_generator.generate_range(player_range)\n",
    "opponent_range = np.zeros([batch_size,1326])\n",
    "range_generator.generate_range(opponent_range)\n",
    "\n",
    "resolving = Resolving(te, verbose=1)\n",
    "\n",
    "time = resolving.resolve(current_node, player_range, opponent_range)\n",
    "res.append(time)"
   ]
  },
  {
   "cell_type": "code",
   "execution_count": 8,
   "metadata": {},
   "outputs": [
    {
     "name": "stdout",
     "output_type": "stream",
     "text": [
      "[136.790625333786, 258.0213177204132, 511.7652814388275, 998.3410956859589]\n"
     ]
    },
    {
     "ename": "NameError",
     "evalue": "name 'asd' is not defined",
     "output_type": "error",
     "traceback": [
      "\u001b[1;31m---------------------------------------------------------------------------\u001b[0m",
      "\u001b[1;31mNameError\u001b[0m                                 Traceback (most recent call last)",
      "\u001b[1;32m<ipython-input-8-39184822038f>\u001b[0m in \u001b[0;36m<module>\u001b[1;34m\u001b[0m\n\u001b[0;32m      1\u001b[0m \u001b[0mprint\u001b[0m\u001b[1;33m(\u001b[0m\u001b[0mres\u001b[0m\u001b[1;33m)\u001b[0m\u001b[1;33m\u001b[0m\u001b[1;33m\u001b[0m\u001b[0m\n\u001b[1;32m----> 2\u001b[1;33m \u001b[0masd\u001b[0m\u001b[1;33m(\u001b[0m\u001b[1;33m)\u001b[0m\u001b[1;33m\u001b[0m\u001b[1;33m\u001b[0m\u001b[0m\n\u001b[0m",
      "\u001b[1;31mNameError\u001b[0m: name 'asd' is not defined"
     ]
    }
   ],
   "source": [
    "print(res)\n",
    "asd()"
   ]
  },
  {
   "cell_type": "code",
   "execution_count": null,
   "metadata": {
    "scrolled": true
   },
   "outputs": [],
   "source": [
    "ranges = np.load('test_ranges/turn_nl.npy')\n",
    "player_range = ranges[0].reshape([1,-1])\n",
    "opponent_range = ranges[1].reshape([1,-1])\n",
    "\n",
    "batch_size = 1\n",
    "player_range = np.tile(player_range, batch_size).reshape([batch_size,-1])\n",
    "opponent_range = np.tile(opponent_range, batch_size).reshape([batch_size,-1])\n",
    "\n",
    "current_node = Node()\n",
    "current_node.board = card_to_string.string_to_board('7d7c8s5s')\n",
    "current_node.street = 3\n",
    "current_node.current_player = constants.players.P2\n",
    "current_node.bets = np.array([8000, 8000], dtype=arguments.dtype)\n",
    "current_node.num_bets = 0\n",
    "\n",
    "te = TerminalEquity()\n",
    "te.set_board(current_node.board)\n",
    "\n",
    "range_generator = RangeGenerator()\n",
    "range_generator.set_board(te, current_node.board)\n",
    "\n",
    "player_range = np.zeros([1,1326])\n",
    "range_generator.generate_range(player_range)\n",
    "opponent_range = np.zeros([1,1326])\n",
    "range_generator.generate_range(opponent_range)\n",
    "\n",
    "resolving = Resolving(te, verbose=1)\n",
    "\n",
    "turn_results = resolving.resolve(current_node, player_range, opponent_range)\n",
    "\n",
    "# %lprun -f resolving.lookahead._compute_current_strategies resolving.resolve(current_node, player_range, opponent_range) \n",
    "# %lprun -f resolving.lookahead._compute_ranges resolving.resolve(current_node, player_range, opponent_range) \n",
    "# %lprun -f resolving.lookahead._compute_terminal_equities_terminal_equity resolving.resolve(current_node, player_range, opponent_range) \n",
    "# %lprun -f resolving.lookahead.next_street_boxes.get_value resolving.resolve(current_node, player_range, opponent_range) \n",
    "# %lprun -f resolving.lookahead._compute_cfvs resolving.resolve(current_node, player_range, opponent_range)\n",
    "# %lprun -f resolving.lookahead._compute_regrets resolving.resolve(current_node, player_range, opponent_range) "
   ]
  },
  {
   "cell_type": "code",
   "execution_count": null,
   "metadata": {},
   "outputs": [],
   "source": [
    "asd()"
   ]
  },
  {
   "cell_type": "code",
   "execution_count": null,
   "metadata": {},
   "outputs": [],
   "source": [
    "v = turn_results.root_cfvs\n",
    "m1 = np.ones_like(v)\n",
    "m1[v == 0] = 0\n",
    "m1.sum()"
   ]
  },
  {
   "cell_type": "code",
   "execution_count": null,
   "metadata": {},
   "outputs": [],
   "source": [
    "v = opponent_range\n",
    "m = np.ones_like(v)\n",
    "m[v == 0] = 0\n",
    "m.sum()\n",
    "np.array_equal(m1,m)"
   ]
  },
  {
   "cell_type": "code",
   "execution_count": null,
   "metadata": {},
   "outputs": [],
   "source": [
    "resolving.lookahead_tree.actions"
   ]
  },
  {
   "cell_type": "code",
   "execution_count": null,
   "metadata": {},
   "outputs": [],
   "source": [
    "results = turn_results\n",
    "print('3c 5h 4h 3h')\n",
    "i = 0\n",
    "for card1 in range(CC):\n",
    "    for card2 in range(card1+1,CC):\n",
    "        idx = card_tools.get_hole_index([card1,card2])\n",
    "        if player_range[0,idx] > 0.0:\n",
    "            i += 1\n",
    "            if 300 < i and i < 360:\n",
    "                print(card_to_string.card_to_string(card1), card_to_string.card_to_string(card2), end='')\n",
    "                print(np.array2string(results.strategy[:,0,idx], suppress_small=True, precision=2), end='\\t')\n",
    "                print(results.root_cfvs[0,idx], end='\\t')\n",
    "                print(player_range[0,idx])\n",
    "print(i)"
   ]
  },
  {
   "cell_type": "code",
   "execution_count": null,
   "metadata": {},
   "outputs": [],
   "source": [
    "i_ = [f.path for f in os.scandir(os.path.join(arguments.data_path, 'river', 'npy')) if 'inputs' in f.path]\n",
    "t_ = [f.path for f in os.scandir(os.path.join(arguments.data_path, 'river', 'npy')) if 'targets' in f.path]\n",
    "b_ = [f.path for f in os.scandir(os.path.join(arguments.data_path, 'river', 'npy')) if 'board' in f.path]"
   ]
  },
  {
   "cell_type": "code",
   "execution_count": null,
   "metadata": {
    "scrolled": true
   },
   "outputs": [],
   "source": [
    "for j in range(10):\n",
    "    print(j)\n",
    "    print(np.load(b_[j])[0])\n",
    "    i = np.load(i_[j])\n",
    "    i = i[0,:-1]\n",
    "    for card1 in range(CC):\n",
    "        for card2 in range(card1+1,CC):\n",
    "            idx = card_tools.get_hole_index([card1,card2])\n",
    "            if i[idx] == 0:\n",
    "                s = 'Ts'\n",
    "                if s in card_to_string.card_to_string(card1) or s in card_to_string.card_to_string(card2):\n",
    "                    print(card_to_string.card_to_string(card1), card_to_string.card_to_string(card2), card1, card2)"
   ]
  },
  {
   "cell_type": "markdown",
   "metadata": {},
   "source": [
    "# river lookahead"
   ]
  },
  {
   "cell_type": "code",
   "execution_count": null,
   "metadata": {},
   "outputs": [],
   "source": [
    "ranges = np.load('test_ranges/river_nl.npy')\n",
    "player_range = ranges[0].reshape([1,-1])\n",
    "opponent_range = ranges[1].reshape([1,-1])\n",
    "\n",
    "batch_size = 1\n",
    "player_range = np.tile(player_range, batch_size).reshape([batch_size,-1])\n",
    "opponent_range = np.tile(opponent_range, batch_size).reshape([batch_size,-1])\n",
    "\n",
    "current_node = Node()\n",
    "current_node.board = card_to_string.string_to_board('8sKh9c8d4c')\n",
    "current_node.street = 4\n",
    "current_node.current_player = constants.players.P2\n",
    "current_node.bets = np.array([1150, 500], dtype=arguments.dtype)\n",
    "current_node.num_bets = 0\n",
    "\n",
    "te = TerminalEquity()\n",
    "te.set_board(current_node.board)\n",
    "\n",
    "# range_generator = RangeGenerator()\n",
    "# range_generator.set_board(te, current_node.board)\n",
    "\n",
    "# player_range = np.zeros([1,1326])\n",
    "# range_generator.generate_range(player_range)\n",
    "# opponent_range = np.zeros([1,1326])\n",
    "# range_generator.generate_range(opponent_range)\n",
    "\n",
    "resolving = Resolving(te, verbose=1)\n",
    "\n",
    "river_results = resolving.resolve(current_node, player_range, opponent_range) \n",
    "\n",
    "# %lprun -f resolving.lookahead._compute_current_strategies resolving.resolve(current_node, player_range, opponent_range) \n",
    "# %lprun -f resolving.lookahead._compute_ranges resolving.resolve(current_node, player_range, opponent_range) \n",
    "# %lprun -f resolving.lookahead._compute_terminal_equities_terminal_equity resolving.resolve(current_node, player_range, opponent_range) \n",
    "# %lprun -f resolving.lookahead._compute_terminal_equities_next_street_box resolving.resolve(current_node, player_range, opponent_range) \n",
    "# %lprun -f resolving.lookahead._compute_cfvs resolving.resolve(current_node, player_range, opponent_range) \n",
    "# %lprun -f resolving.lookahead._compute_regrets resolving.resolve(current_node, player_range, opponent_range) "
   ]
  },
  {
   "cell_type": "code",
   "execution_count": null,
   "metadata": {},
   "outputs": [],
   "source": [
    "resolving.lookahead_tree.actions"
   ]
  },
  {
   "cell_type": "code",
   "execution_count": null,
   "metadata": {
    "scrolled": false
   },
   "outputs": [],
   "source": [
    "results = river_results\n",
    "print('7d 7c 8s 5s Qd')\n",
    "i = 0\n",
    "for card1 in range(CC):\n",
    "    for card2 in range(card1+1,CC):\n",
    "        idx = card_tools.get_hole_index([card1,card2])\n",
    "        if opponent_range[0,idx] > 0:\n",
    "            i += 1\n",
    "#             if 200 < i and i < 270:\n",
    "            if '9s' in card_to_string.card_to_string(card2) or '9s' in card_to_string.card_to_string(card1):\n",
    "                print(card_to_string.card_to_string(card1), card_to_string.card_to_string(card2), end='')\n",
    "                print(np.array2string(results.strategy[:,0,idx], suppress_small=True, precision=2), end=' ')\n",
    "                print(np.array2string(results.root_cfvs_both_players[0,0,idx], suppress_small=True, precision=2))\n",
    "print(i)"
   ]
  },
  {
   "cell_type": "markdown",
   "metadata": {},
   "source": [
    "# Board to nn feature"
   ]
  },
  {
   "cell_type": "code",
   "execution_count": null,
   "metadata": {},
   "outputs": [],
   "source": [
    "board = card_to_string.string_to_board('7d7cKsKhQs')\n",
    "\n",
    "te = TerminalEquity()\n",
    "te.set_board(board)\n",
    "range_generator = RangeGenerator()\n",
    "range_generator.set_board(te, board)\n",
    "\n",
    "r = np.zeros([1,1326])\n",
    "range_generator.generate_range(r)"
   ]
  },
  {
   "cell_type": "code",
   "execution_count": null,
   "metadata": {},
   "outputs": [],
   "source": [
    "m = np.zeros([1,1326])\n",
    "m[r > 0.00001] = 1\n",
    "print(m.sum())"
   ]
  },
  {
   "cell_type": "code",
   "execution_count": null,
   "metadata": {},
   "outputs": [],
   "source": [
    "board = card_to_string.string_to_board('7c5c6c2c')\n",
    "board2 = card_to_string.string_to_board('2hKcJdQc')\n",
    "boards = np.zeros([2,board.shape[0]], dtype=int)\n",
    "boards[0] = board\n",
    "boards[1] = board2"
   ]
  },
  {
   "cell_type": "code",
   "execution_count": null,
   "metadata": {},
   "outputs": [],
   "source": [
    "c = 52\n",
    "p = 2 * 1\n",
    "left_cards = c - 4 - p\n",
    "print(left_cards)\n",
    "tools.choose(left_cards, 1)"
   ]
  },
  {
   "cell_type": "code",
   "execution_count": null,
   "metadata": {},
   "outputs": [],
   "source": [
    "card_tools.get_possible_hand_indexes(boards)"
   ]
  },
  {
   "cell_type": "code",
   "execution_count": null,
   "metadata": {},
   "outputs": [],
   "source": [
    "a = evaluator.batch_eval_fast(boards)\n",
    "b = evaluator.batch_eval_fast2(boards)\n",
    "np.array_equal(a,b)"
   ]
  },
  {
   "cell_type": "code",
   "execution_count": null,
   "metadata": {},
   "outputs": [],
   "source": [
    "%timeit a = evaluator.batch_eval_fast(boards)\n",
    "%timeit b = evaluator.batch_eval_fast2(boards)"
   ]
  },
  {
   "cell_type": "code",
   "execution_count": null,
   "metadata": {},
   "outputs": [],
   "source": [
    "_idx_to_cards = np.zeros([HC,2], dtype=arguments.dtype)\n",
    "for card1 in range(CC):\n",
    "    for card2 in range(card1+1,CC):\n",
    "        idx = card_tools.get_hole_index([card1,card2])\n",
    "        _idx_to_cards[idx][0] = card1\n",
    "        _idx_to_cards[idx][1] = card2\n",
    "\n",
    "def f():\n",
    "    hands = np.zeros([HC, board.shape[0] + 2], dtype=arguments.int_dtype) # ? - long\n",
    "    hands[ : ,  :board.shape[0] ] = board.reshape([1,board.shape[0]]) * np.ones([HC,board.shape[0]])\n",
    "    hands[ : , -2: ] = _idx_to_cards.copy()\n",
    "    a = evaluator.evaluate_fast(hands)\n",
    "\n",
    "def f2():\n",
    "    hands = np.zeros([HC, board.shape[0] + 2], dtype=arguments.int_dtype) # ? - long\n",
    "    hands[ : ,  :board.shape[0] ] = board.reshape([1,board.shape[0]]) * np.ones([HC,board.shape[0]])\n",
    "    hands[ : , -2: ] = _idx_to_cards.copy()\n",
    "    b = card_tools.get_possible_hand_indexes(board).astype(bool)"
   ]
  },
  {
   "cell_type": "code",
   "execution_count": null,
   "metadata": {},
   "outputs": [],
   "source": [
    "%timeit f()"
   ]
  },
  {
   "cell_type": "code",
   "execution_count": null,
   "metadata": {},
   "outputs": [],
   "source": [
    "%timeit f2()"
   ]
  },
  {
   "cell_type": "code",
   "execution_count": null,
   "metadata": {},
   "outputs": [],
   "source": [
    "_idx_to_cards[1300:]"
   ]
  },
  {
   "cell_type": "code",
   "execution_count": null,
   "metadata": {},
   "outputs": [],
   "source": [
    "card_tools.get_possible_hand_indexes()"
   ]
  },
  {
   "cell_type": "code",
   "execution_count": null,
   "metadata": {},
   "outputs": [],
   "source": [
    "board = card_to_string.string_to_board('7c5c6cQd')\n",
    "print(board)\n",
    "boards  = card_tools.get_next_round_boards(board) # []\n",
    "mask = np.zeros([boards.shape[0], HC], dtype=bool)\n",
    "for i, b in enumerate(boards):\n",
    "    mask[i] = card_tools.get_possible_hand_indexes(b)\n",
    "\n",
    "print(mask.shape)\n",
    "print(boards.shape)\n",
    "print(np.zeros([boards.shape[0], HC])[mask])"
   ]
  },
  {
   "cell_type": "code",
   "execution_count": null,
   "metadata": {},
   "outputs": [],
   "source": [
    "card_tools.get_possible_hands_mask(np.array([[1,2,3,4,5,6,7]]))"
   ]
  },
  {
   "cell_type": "code",
   "execution_count": null,
   "metadata": {},
   "outputs": [],
   "source": [
    "for i, j in enumerate(range(2,15)):\n",
    "    print(i, j)"
   ]
  },
  {
   "cell_type": "code",
   "execution_count": null,
   "metadata": {},
   "outputs": [],
   "source": [
    "game_settings.rank_count, game_settings.suit_count"
   ]
  },
  {
   "cell_type": "code",
   "execution_count": null,
   "metadata": {},
   "outputs": [],
   "source": [
    "def convert_board_to_nn_feature(board):\n",
    "    num_cards = game_settings.card_count\n",
    "    one_hot_cards = np.zeros([num_cards], dtype=np.float32)\n",
    "    for card in board:\n",
    "        one_hot_cards[ card ] = 1\n",
    "    return one_hot_cards\n",
    "board = card_to_string.string_to_board('7d7c8s5hQd')\n",
    "convert_board_to_nn_feature(board)"
   ]
  },
  {
   "cell_type": "code",
   "execution_count": null,
   "metadata": {},
   "outputs": [],
   "source": [
    "def convert_board_to_nn_feature(board):\n",
    "    num_ranks, num_suits = game_settings.rank_count, game_settings.suit_count\n",
    "    num_cards = game_settings.card_count\n",
    "    one_hot_board = np.zeros([num_cards], dtype=np.float32)\n",
    "    suit_counts = np.zeros([num_suits], dtype=np.float32)\n",
    "    rank_counts = np.zeros([num_ranks], dtype=np.float32)\n",
    "    for card in board:\n",
    "        suit = card_to_string.card_to_suit(card) \n",
    "        rank = card_to_string.card_to_rank(card)\n",
    "        one_hot_board[ card ] = 1\n",
    "        suit_counts[ suit ] += 1\n",
    "        rank_counts[ rank ] += 1\n",
    "    # normalize counts\n",
    "    rank_counts /= num_ranks\n",
    "    suit_counts /= num_suits\n",
    "    # combine all arrays and return\n",
    "    out = np.zeros([num_cards + num_suits + num_ranks], dtype=np.float32)\n",
    "    out[ :num_cards ] = one_hot_board\n",
    "    out[ num_cards:num_cards+num_suits ] = suit_counts\n",
    "    out[ num_cards+num_suits: ] = rank_counts\n",
    "    return out\n",
    "board = card_to_string.string_to_board('7c7c8s5hQd')\n",
    "convert_board_to_nn_feature(board)"
   ]
  },
  {
   "cell_type": "markdown",
   "metadata": {},
   "source": [
    "# Range Generator"
   ]
  },
  {
   "cell_type": "code",
   "execution_count": null,
   "metadata": {},
   "outputs": [],
   "source": [
    "board = card_to_string.string_to_board('7d7c8s5sQd')\n",
    "range_generator = RangeGenerator()\n",
    "term_eq = TerminalEquity()\n",
    "term_eq.set_board(board)\n",
    "range_generator.set_board(term_eq, board)"
   ]
  },
  {
   "cell_type": "code",
   "execution_count": null,
   "metadata": {},
   "outputs": [],
   "source": [
    "batch_size = 16\n",
    "ranges = np.zeros([batch_size, HC], dtype=arguments.dtype)\n",
    "range_generator.generate_range(ranges)"
   ]
  },
  {
   "cell_type": "markdown",
   "metadata": {},
   "source": [
    "# Random functions"
   ]
  },
  {
   "cell_type": "code",
   "execution_count": null,
   "metadata": {},
   "outputs": [],
   "source": [
    "# card_to_string.string_to_board('KsKhJs')"
   ]
  },
  {
   "cell_type": "code",
   "execution_count": null,
   "metadata": {},
   "outputs": [],
   "source": [
    "# card_tools.string_to_hole_index('Jh')"
   ]
  },
  {
   "cell_type": "code",
   "execution_count": null,
   "metadata": {},
   "outputs": [],
   "source": [
    "# a = card_tools.get_next_round_boards(np.zeros([]))\n",
    "# a[-5:]"
   ]
  },
  {
   "cell_type": "code",
   "execution_count": null,
   "metadata": {},
   "outputs": [],
   "source": [
    "# card_tools.get_last_boards_count(1)"
   ]
  },
  {
   "cell_type": "code",
   "execution_count": null,
   "metadata": {},
   "outputs": [],
   "source": [
    "# card_tools.get_flop_board_index(np.array([10,20,30])-1)"
   ]
  },
  {
   "cell_type": "code",
   "execution_count": null,
   "metadata": {},
   "outputs": [],
   "source": [
    "# card_tools.get_hole_index([11,14])"
   ]
  },
  {
   "cell_type": "code",
   "execution_count": null,
   "metadata": {},
   "outputs": [],
   "source": [
    "# card_tools.get_board_index(np.array([2,20,30,40,10])-1)"
   ]
  },
  {
   "cell_type": "code",
   "execution_count": null,
   "metadata": {},
   "outputs": [],
   "source": [
    "# evaluator.evaluate_seven_card_hand(np.array([2,4,8,16,32,15,7])-1)"
   ]
  },
  {
   "cell_type": "code",
   "execution_count": null,
   "metadata": {},
   "outputs": [],
   "source": [
    "# a = np.arange(6*7).reshape([6,7])\n",
    "# evaluator.evaluate_fast(a)"
   ]
  },
  {
   "cell_type": "code",
   "execution_count": null,
   "metadata": {},
   "outputs": [],
   "source": [
    "# evaluator.batch_eval_fast(np.array([0,1,2]))[783]"
   ]
  },
  {
   "cell_type": "markdown",
   "metadata": {},
   "source": [
    "# Tree Build"
   ]
  },
  {
   "cell_type": "code",
   "execution_count": null,
   "metadata": {},
   "outputs": [],
   "source": [
    "# params = TreeParams()\n",
    "# first_node = Node()\n",
    "# first_node.board = np.zeros([], dtype=int)\n",
    "# first_node.street = 1\n",
    "# first_node.current_player = constants.players.P1\n",
    "# first_node.bets = np.array([50, 100], dtype=int)\n",
    "# first_node.num_bets = 0\n",
    "# params.root_node = first_node\n",
    "# params.limit_to_street = True\n",
    "\n",
    "# current_node = Node()\n",
    "# current_node.board = card_to_string.string_to_board('7d7c8s5sQd')\n",
    "# current_node.street = 4\n",
    "# current_node.current_player = constants.players.P2\n",
    "# current_node.bets = np.array([100, 100], dtype=arguments.dtype)\n",
    "# current_node.num_bets = 0\n",
    "# params.root_node = current_node\n",
    "\n",
    "# root = tree_builder.build_tree(params)"
   ]
  },
  {
   "cell_type": "code",
   "execution_count": null,
   "metadata": {},
   "outputs": [],
   "source": [
    "# tree_visualizer.draw_tree(root, size='30,10', show_vars=True)"
   ]
  },
  {
   "cell_type": "markdown",
   "metadata": {},
   "source": [
    "# CFR"
   ]
  },
  {
   "cell_type": "code",
   "execution_count": null,
   "metadata": {},
   "outputs": [],
   "source": [
    "# card_to_string.string_to_board('7d7c8s5sQd')"
   ]
  },
  {
   "cell_type": "code",
   "execution_count": null,
   "metadata": {},
   "outputs": [],
   "source": [
    "def _generate_sorted_range(ranges):\n",
    "    batch_size = ranges.shape[0]\n",
    "    mass = np.ones([batch_size], dtype=np.float32)\n",
    "    _generate_recursion(ranges, mass)\n",
    "\n",
    "def _generate_recursion(cards, mass):\n",
    "    batch_size = cards.shape[0]\n",
    "    assert(mass.shape[0] == batch_size)\n",
    "    card_count = cards.shape[1]\n",
    "    # we terminate recursion at size of 1\n",
    "    if card_count == 1:\n",
    "        cards[ : , 0 ] = mass.copy()\n",
    "    else:\n",
    "        rand = np.random.rand(batch_size)\n",
    "        mass1 = mass.copy() * rand\n",
    "        mass2 = mass - mass1\n",
    "        halfSize = card_count / 2\n",
    "        # if the tensor contains an odd number of cards,\n",
    "        # randomize which way the middle card goes\n",
    "        if halfSize % 1 != 0:\n",
    "            # if end is .5 then init randomly between two numbers\n",
    "            halfSize = int(halfSize - 0.5)\n",
    "            halfSize = halfSize + np.random.randint(2) # (0 or 1)\n",
    "        halfSize = int(halfSize)\n",
    "\n",
    "        _generate_recursion(cards[ : , :halfSize ], mass1)\n",
    "        _generate_recursion(cards[ : , halfSize: ], mass2)"
   ]
  },
  {
   "cell_type": "code",
   "execution_count": null,
   "metadata": {},
   "outputs": [],
   "source": [
    "# ranges = np.load('test_ranges/river_nl.npy')\n",
    "# player_range = ranges[0].reshape([1,-1])\n",
    "# opponent_range = ranges[1].reshape([1,-1])\n",
    "\n",
    "# def test(iters=np.linspace(100,2000,10, dtype=int), skip=arguments.cfr_skip_iters, kfold=5):\n",
    "#     kf = []\n",
    "#     for k in tqdm(range(kfold)):\n",
    "#         results = []\n",
    "#         for i in tqdm(iters, total=len(iters)):\n",
    "#             if i >= skip:\n",
    "#                 params = TreeParams()\n",
    "\n",
    "#                 ranges = np.zeros([1,1326])\n",
    "#                 _generate_sorted_range(ranges)\n",
    "#                 player_range = ranges.reshape([-1])\n",
    "#                 ranges = np.zeros([1,1326])\n",
    "#                 _generate_sorted_range(ranges)\n",
    "#                 opponent_range = ranges.reshape([-1])\n",
    "\n",
    "#                 params.root_node = Node()\n",
    "#                 params.root_node.board = card_generator.generate_cards(5) # card_to_string.string_to_board('6c6d2c2d3h')\n",
    "#                 params.root_node.street = 4\n",
    "#                 params.root_node.current_player = constants.players.P1 if np.random.rand() > 0.5 else constants.players.P2\n",
    "#                 r = np.random.randint(1,20000)\n",
    "#                 params.root_node.bets = np.array([r,r])\n",
    "#                 params.root_node.num_bets = 0\n",
    "\n",
    "#                 tree = tree_builder.build_tree(params)\n",
    "\n",
    "#                 starting_ranges = np.zeros([PC,HC], dtype=arguments.dtype)\n",
    "#                 starting_ranges[0] = player_range # card_tools.get_uniform_range(params.root_node.board)\n",
    "#                 starting_ranges[1] = opponent_range # card_tools.get_uniform_range(params.root_node.board)\n",
    "\n",
    "#                 t0 = time()\n",
    "#                 tree_cfr = TreeCFR()\n",
    "#                 # %lprun -f tree_cfr.cfrs_iter_dfs tree_cfr.run_cfr(tree, starting_ranges)\n",
    "#                 tree_cfr.run_cfr(tree, starting_ranges, iter_count=i, skip=i-skip)\n",
    "#                 print('Took time: {} for {} iters'.format(time()-t0, i))\n",
    "#                 time_ = time()-t0\n",
    "\n",
    "#                 tree_values = TreeValues()\n",
    "#                 tree_values.compute_values(tree, starting_ranges)\n",
    "\n",
    "#                 print('Exploitability: ' + str(tree.exploitability) + ' [chips]' )\n",
    "#                 results.append([i, time_, tree.exploitability])\n",
    "#         kf.append(np.array(results))\n",
    "#     return np.array(kf)"
   ]
  },
  {
   "cell_type": "code",
   "execution_count": null,
   "metadata": {},
   "outputs": [],
   "source": [
    "# iters = [700]\n",
    "# skip = 300\n",
    "# ats = test(iters, skip=skip, kfold=30)"
   ]
  },
  {
   "cell_type": "code",
   "execution_count": null,
   "metadata": {},
   "outputs": [],
   "source": [
    "# ats.shape\n",
    "# print(np.mean(ats, axis=0)[0,2], np.std(ats, axis=0)[0,2])"
   ]
  },
  {
   "cell_type": "code",
   "execution_count": null,
   "metadata": {},
   "outputs": [],
   "source": [
    "# iters0 = np.linspace(0,1000,100, dtype=int)\n",
    "# # iters1 = np.linspace(550,1000,10, dtype=int)\n",
    "# iters1 = [700,800,900,1000]\n",
    "# skip0 = 300\n",
    "# skip1 = 300\n",
    "# kfold = 100"
   ]
  },
  {
   "cell_type": "code",
   "execution_count": null,
   "metadata": {},
   "outputs": [],
   "source": [
    "# ats = test(iters0, skip=skip0, kfold=kfold)\n",
    "# x = ats[ : , : , 0]\n",
    "# y1 = ats[ : , : , 1]\n",
    "# y2 = ats[ : , : , 2]"
   ]
  },
  {
   "cell_type": "code",
   "execution_count": null,
   "metadata": {},
   "outputs": [],
   "source": [
    "# ats = test(iters1, skip=skip1, kfold=kfold)\n",
    "# _x = ats[ : , : , 0]\n",
    "# _y1 = ats[ : , : , 1]\n",
    "# _y2 = ats[ : , : , 2]"
   ]
  },
  {
   "cell_type": "code",
   "execution_count": null,
   "metadata": {},
   "outputs": [],
   "source": [
    "# lambd = 0.999\n",
    "# x = 1\n",
    "# for i in range(1000):\n",
    "#     x = lambd ** i\n",
    "#     if i == 999:\n",
    "#         print(x)"
   ]
  },
  {
   "cell_type": "code",
   "execution_count": null,
   "metadata": {},
   "outputs": [],
   "source": [
    "# print(np.mean(x,axis=0))\n",
    "# print(np.mean(y2,axis=0))\n",
    "# print(np.std(y2,axis=0))"
   ]
  },
  {
   "cell_type": "code",
   "execution_count": null,
   "metadata": {},
   "outputs": [],
   "source": [
    "# plot_2yaxis(x, y1, y2, _x, _y1, _y2, y_name='skip:{}'.format(skip0), comp_y_name='skip:{}'.format(skip1))\n",
    "# # plot_2yaxis(_x, _y1, _y2, y_name='skip:{}'.format(skip0), comp_y_name='skip:{}'.format(skip1))"
   ]
  },
  {
   "cell_type": "code",
   "execution_count": null,
   "metadata": {},
   "outputs": [],
   "source": [
    "# import matplotlib.pyplot as plt\n",
    "\n",
    "# def plot_2yaxis(x, y1, y2, comp_x=None, comp_y1=None, comp_y2=None, y_name='', comp_y_name=''):\n",
    "#     fig, ax1 = plt.subplots()\n",
    "#     x = np.mean(x, axis=0)\n",
    "#     y1 = np.mean(y1, axis=0)\n",
    "\n",
    "#     ax1.plot(x, y1, 'b-')\n",
    "#     ax1.set_xlabel('# of iterations')\n",
    "#     ax1.set_ylabel('seconds', color='b')\n",
    "#     ax1.tick_params('y', colors='b')\n",
    "\n",
    "#     ax2 = ax1.twinx()\n",
    "#     mean = np.mean(y2, axis=0)\n",
    "#     std = np.mean(y2, axis=0)\n",
    "#     ax2.plot(x, mean, lw = 3, color='r', alpha = 0.8, label = y_name)\n",
    "#     y_low = mean - std\n",
    "#     y_high = mean + std\n",
    "#     ax2.fill_between(x, y_low, y_high, color='r', alpha = 0.1)\n",
    "#     ax2.set_ylabel('exploitability', color='r')\n",
    "#     ax2.tick_params('y', colors='r')\n",
    "\n",
    "#     if comp_x is not None:\n",
    "#         comp_x = np.mean(comp_x, axis=0)\n",
    "#         comp_y1 = np.mean(comp_y1, axis=0)\n",
    "\n",
    "#         ax1.plot(comp_x, comp_y1, 'b--')\n",
    "#         ax1.tick_params('y', colors='b')\n",
    "\n",
    "#         mean = np.mean(comp_y2, axis=0)\n",
    "#         std = np.mean(comp_y2, axis=0)\n",
    "#         ax2.plot(comp_x, mean, 'r--', lw = 3, alpha = 0.8, label = comp_y_name)\n",
    "#         y_low = mean - std\n",
    "#         y_high = mean + std\n",
    "#         ax2.fill_between(comp_x, y_low, y_high, color='g', alpha = 0.1)\n",
    "#         ax2.tick_params('y', colors='r')\n",
    "        \n",
    "# #         ax.grid()\n",
    "#     ax2.legend()\n",
    "#     fig.tight_layout()\n",
    "#     plt.show()"
   ]
  },
  {
   "cell_type": "code",
   "execution_count": null,
   "metadata": {},
   "outputs": [],
   "source": [
    "# print(np.array2string(tree.strategy[:, 522:527], suppress_small=True, precision=5))"
   ]
  },
  {
   "cell_type": "markdown",
   "metadata": {},
   "source": [
    "# Flop nl"
   ]
  },
  {
   "cell_type": "code",
   "execution_count": null,
   "metadata": {},
   "outputs": [],
   "source": [
    "%load_ext line_profiler"
   ]
  },
  {
   "cell_type": "code",
   "execution_count": null,
   "metadata": {},
   "outputs": [],
   "source": [
    "ranges = np.load('test_ranges/river_nl.npy')\n",
    "player_range = ranges[0].reshape([1,-1])\n",
    "opponent_range = ranges[1].reshape([1,-1])\n",
    "\n",
    "batch_size = 16\n",
    "player_range = np.tile(player_range, batch_size).reshape([batch_size,-1])\n",
    "opponent_range = np.tile(opponent_range, batch_size).reshape([batch_size,-1])\n",
    "\n",
    "current_node = Node()\n",
    "current_node.board = card_to_string.string_to_board('7d7c8s5sQd')\n",
    "current_node.street = 4\n",
    "current_node.current_player = constants.players.P2\n",
    "current_node.bets = np.array([8000, 8000], dtype=arguments.dtype)\n",
    "current_node.num_bets = 0\n",
    "\n",
    "te = TerminalEquity()\n",
    "te.set_board(current_node.board)\n",
    "\n",
    "resolving = Resolving(te, verbose=1)\n",
    "\n",
    "results = resolving.resolve(current_node, player_range, opponent_range) \n",
    "\n",
    "# %lprun -f resolving.lookahead._compute_current_strategies resolving.resolve(current_node, player_range, opponent_range) \n",
    "# %lprun -f resolving.lookahead._compute_ranges resolving.resolve(current_node, player_range, opponent_range) \n",
    "# %lprun -f resolving.lookahead._compute_terminal_equities_terminal_equity resolving.resolve(current_node, player_range, opponent_range) \n",
    "# %lprun -f resolving.lookahead._compute_terminal_equities_next_street_box resolving.resolve(current_node, player_range, opponent_range) \n",
    "# %lprun -f resolving.lookahead._compute_cfvs resolving.resolve(current_node, player_range, opponent_range) \n",
    "# %lprun -f resolving.lookahead._compute_regrets resolving.resolve(current_node, player_range, opponent_range) "
   ]
  },
  {
   "cell_type": "code",
   "execution_count": null,
   "metadata": {},
   "outputs": [],
   "source": [
    "print('7d 7c 8s 5s Qd')\n",
    "i = 0\n",
    "for card1 in range(CC):\n",
    "    for card2 in range(card1+1,CC):\n",
    "        idx = card_tools.get_hole_index([card1,card2])\n",
    "        if player_range[0,idx] > 0:\n",
    "            i += 1\n",
    "            if i < 10:\n",
    "                print(card_to_string.card_to_string(card1), card_to_string.card_to_string(card2), end='')\n",
    "                print(np.array2string(results.strategy[:,0,idx], suppress_small=True, precision=2), end=' ')\n",
    "                print(np.array2string(results.root_cfvs[0,idx], suppress_small=True, precision=2))\n",
    "print(i)"
   ]
  },
  {
   "cell_type": "code",
   "execution_count": null,
   "metadata": {},
   "outputs": [],
   "source": [
    "board = card_to_string.string_to_board('7d7c8s5sQd')\n",
    "card_tools.get_possible_hand_indexes(board).sum()"
   ]
  },
  {
   "cell_type": "code",
   "execution_count": null,
   "metadata": {},
   "outputs": [],
   "source": [
    "ranges = np.load('test_ranges/river_nl.npy')\n",
    "print(ranges[0][1:100])\n",
    "card_tools.get_possible_hand_indexes(board)[1:100]"
   ]
  },
  {
   "cell_type": "code",
   "execution_count": null,
   "metadata": {},
   "outputs": [],
   "source": [
    "b = results.root_cfvs_both_players.copy().reshape([16,1326*2])[0]\n",
    "m = np.zeros([1326*2])\n",
    "m[ b == 0 ] = 1\n",
    "m = m.reshape(1326*2)\n",
    "a = np.arange(1326*2)\n",
    "# print(a[ m > 0 ])\n",
    "\n",
    "i = np.zeros([2,1326])\n",
    "i[0] = player_range[0]\n",
    "i[1] = opponent_range[0]\n",
    "i = i.reshape([1326*2])\n",
    "m2 = np.zeros([1326*2])\n",
    "m2[ i > 0 ] = 1\n",
    "print(m.sum())\n",
    "print(m2.sum())\n",
    "# print(a[ m2 > 0 ])"
   ]
  },
  {
   "cell_type": "code",
   "execution_count": null,
   "metadata": {},
   "outputs": [],
   "source": [
    "# [-60.87 -61.67 -62.58 -21.3  -21.3  -21.89]\n",
    "# [-94.51 -92.84 -92.76 -84.73 -84.73 -83.04]"
   ]
  },
  {
   "cell_type": "code",
   "execution_count": null,
   "metadata": {},
   "outputs": [],
   "source": [
    "# [-7599.89 -7464.71 -7458.21 -7214.99 -7214.99 -7077.32]\n",
    "# [-2017.01 -2134.09 -2233.93 -1670.9  -1670.9  -1681.84]\n",
    "\n",
    "# (1, 1326) (1, 2, 1326)\n",
    "# [-4212.14 -4322.69 -4426.17 -1711.65 -1711.65 -1701.19]\n",
    "# [-4212.14 -4322.69 -4426.17 -1711.65 -1711.65 -1701.19]\n",
    "# (2, 1326)\n",
    "# [-7416.12 -7370.56 -7378.47 -6971.93 -6971.93 -6835.54]\n",
    "# [-4212.14 -4322.69 -4426.17 -1711.65 -1711.65 -1701.19]\n",
    "\n",
    "# [[0.45 0.45 0.45 0.   0.   0.  ]\n",
    "#  [0.53 0.54 0.54 0.98 0.98 0.99]\n",
    "#  [0.01 0.01 0.01 0.01 0.01 0.01]]\n",
    "\n",
    "# [[0.   0.   0.   0.   0.   0.  ]\n",
    "#  [0.02 0.02 0.02 0.99 0.99 0.99]\n",
    "#  [0.98 0.98 0.98 0.01 0.01 0.01]]"
   ]
  },
  {
   "cell_type": "markdown",
   "metadata": {},
   "source": [
    "# Batch size test"
   ]
  },
  {
   "cell_type": "code",
   "execution_count": null,
   "metadata": {},
   "outputs": [],
   "source": [
    "# times = [5,16,20,30,40,50,100]\n",
    "# r = []\n",
    "# for _ in tqdm(range(3)):\n",
    "#     res = []\n",
    "#     for batch_size in tqdm(times, total=len(times)):\n",
    "# #         I = 1326\n",
    "\n",
    "# #         player_range = np.zeros([batch_size,I])\n",
    "# #         _generate_sorted_range(player_range)\n",
    "# #         opponent_range = np.zeros([batch_size,I])\n",
    "# #         _generate_sorted_range(opponent_range)\n",
    "#         ranges = np.load('test_ranges/river_nl.npy')\n",
    "#         player_range = ranges[0].reshape([1,-1])\n",
    "#         opponent_range = ranges[1].reshape([1,-1])\n",
    "\n",
    "#         player_range = np.tile(player_range, batch_size).reshape([batch_size,-1])\n",
    "#         opponent_range = np.tile(opponent_range, batch_size).reshape([batch_size,-1])\n",
    "\n",
    "\n",
    "#         current_node = Node()\n",
    "#         current_node.board = card_to_string.string_to_board('7d7c8s5sQd')\n",
    "#         current_node.street = 4\n",
    "#         current_node.current_player = constants.players.P2\n",
    "#         current_node.bets = np.array([100, 100], dtype=arguments.dtype)\n",
    "#         current_node.num_bets = 0\n",
    "\n",
    "#         te = TerminalEquity()\n",
    "#         te.set_board(current_node.board)\n",
    "\n",
    "#         resolving = Resolving(te, verbose=1)\n",
    "\n",
    "#         results = resolving.resolve(current_node, player_range, opponent_range) \n",
    "#         res.append(results)\n",
    "#     r.append(np.array(res))"
   ]
  },
  {
   "cell_type": "code",
   "execution_count": null,
   "metadata": {},
   "outputs": [],
   "source": [
    "del r\n",
    "ats = np.array(r)\n",
    "ats.shape\n",
    "ats /= times\n",
    "print(np.mean(ats,axis=0))\n",
    "print(np.std(ats,axis=0))"
   ]
  },
  {
   "cell_type": "code",
   "execution_count": null,
   "metadata": {},
   "outputs": [],
   "source": [
    "# ats2 = ats.copy()\n",
    "# ats = np.clip(ats,0,12)"
   ]
  },
  {
   "cell_type": "code",
   "execution_count": null,
   "metadata": {},
   "outputs": [],
   "source": [
    "times = np.array([5,16,20,30,40,50,100])\n",
    "ats = np.array([ [18,62,82,131,173,221,441], [16,62,81,128,170,217,442], [17,61,81,126,169,217,445] ])"
   ]
  },
  {
   "cell_type": "code",
   "execution_count": null,
   "metadata": {},
   "outputs": [],
   "source": [
    "# import matplotlib.pyplot as plt\n",
    "# %matplotlib inline\n",
    "\n",
    "# x = times\n",
    "# y = np.array(ats)\n",
    "# mean = np.mean(y, axis=0)\n",
    "# std = np.std(y, axis=0)\n",
    "# print(mean, std)\n",
    "\n",
    "# fig, ax = plt.subplots()\n",
    "\n",
    "# ax.plot(x, mean, lw = 3, color='b', alpha = 0.8, label = '')\n",
    "# y_low = mean - std\n",
    "# y_high = mean + std\n",
    "# ax.fill_between(x, y_low, y_high, color='b', alpha = 0.1)\n",
    "\n",
    "# ax.set(xlabel='batches (nr)', ylabel='seconds (s)',\n",
    "#        title='solving batches w/ same board')\n",
    "# ax.grid()"
   ]
  },
  {
   "cell_type": "code",
   "execution_count": null,
   "metadata": {},
   "outputs": [],
   "source": [
    "# import matplotlib.pyplot as plt\n",
    "\n",
    "# x = times\n",
    "# y = np.array(ats) / x\n",
    "# mean = np.mean(y, axis=0)\n",
    "# std = np.std(y, axis=0)\n",
    "\n",
    "# fig, ax = plt.subplots()\n",
    "\n",
    "# ax.plot(x, mean, lw = 3, color='b', alpha = 0.8, label = '')\n",
    "# y_low = mean - std\n",
    "# y_high = mean + std\n",
    "# ax.fill_between(x, y_low, y_high, color='b', alpha = 0.1)\n",
    "\n",
    "# ax.set(xlabel='batches (nr)', ylabel='seconds for 1 example (s)',\n",
    "#        title='solving batches w/ same board')\n",
    "# ax.grid()"
   ]
  },
  {
   "cell_type": "markdown",
   "metadata": {},
   "source": [
    "# Card and Range Generator"
   ]
  },
  {
   "cell_type": "code",
   "execution_count": null,
   "metadata": {},
   "outputs": [],
   "source": [
    "# from DataGeneration.random_card_generator import card_generator\n",
    "# card_generator.generate_cards(6)"
   ]
  },
  {
   "cell_type": "code",
   "execution_count": null,
   "metadata": {},
   "outputs": [],
   "source": [
    "# from DataGeneration.range_generator import RangeGenerator\n",
    "# r = RangeGenerator()\n",
    "# board = np.zeros([])\n",
    "# r.set_board(board)\n",
    "# BS,CC = 10,6\n",
    "# ranges = np.zeros([BS,CC])\n",
    "# r.generate_range(ranges)\n",
    "# print(np.array2string(ranges, suppress_small=True, precision=2))\n",
    "# print(np.array2string(np.sum(ranges, axis=1, keepdims=True), suppress_small=True, precision=2))"
   ]
  },
  {
   "cell_type": "markdown",
   "metadata": {},
   "source": [
    "# Lookahead (test 1)"
   ]
  },
  {
   "cell_type": "code",
   "execution_count": null,
   "metadata": {},
   "outputs": [],
   "source": [
    "# params = TreeParams()\n",
    "# params.root_node = Node()\n",
    "# params.root_node.board = card_to_string.string_to_board('Ks')\n",
    "# params.root_node.street = 2\n",
    "# params.root_node.current_player = constants.players.P1\n",
    "# params.root_node.bets = np.array([100, 100])\n",
    "# params.limit_to_street = False\n",
    "# tree = tree_builder.build_tree(params)"
   ]
  },
  {
   "cell_type": "code",
   "execution_count": null,
   "metadata": {},
   "outputs": [],
   "source": [
    "# from Tree.tree_strategy_filling import TreeStrategyFilling\n",
    "\n",
    "# filling = TreeStrategyFilling()\n",
    "\n",
    "# range1 = card_tools.get_uniform_range(params.root_node.board)\n",
    "# range2 = card_tools.get_uniform_range(params.root_node.board)\n",
    "\n",
    "# filling.fill_strategies(tree, P1, range1, range2)\n",
    "# filling.fill_strategies(tree, P2, range1, range2)"
   ]
  },
  {
   "cell_type": "code",
   "execution_count": null,
   "metadata": {},
   "outputs": [],
   "source": [
    "# starting_ranges = np.zeros([PC,CC], dtype=arguments.dtype)\n",
    "# starting_ranges[0] = card_tools.get_uniform_range(params.root_node.board)\n",
    "# starting_ranges[1] = card_tools.get_uniform_range(params.root_node.board)\n",
    "\n",
    "# tree_values = TreeValues()\n",
    "# tree_values.compute_values(tree, starting_ranges)\n",
    "\n",
    "# print('Exploitability: ' + str(tree.exploitability) + ' [chips]' )"
   ]
  },
  {
   "cell_type": "markdown",
   "metadata": {},
   "source": [
    "# Next Round Value Bucketing test"
   ]
  },
  {
   "cell_type": "code",
   "execution_count": null,
   "metadata": {},
   "outputs": [],
   "source": [
    "# next_round_value = NextRoundValue(None)\n",
    "# print(next_round_value._range_matrix)\n",
    "# # test of card to bucket range translation\n",
    "# range_ = np.arange(1,7).reshape([1,-1]).astype(float)\n",
    "# next_round_range = np.zeros([1, next_round_value.bucket_count * next_round_value.board_count], dtype=arguments.dtype)\n",
    "# next_round_value._card_range_to_bucket_range(range_, next_round_range)\n",
    "# print(next_round_range)"
   ]
  },
  {
   "cell_type": "markdown",
   "metadata": {},
   "source": [
    "# Next Round Value (mock test)"
   ]
  },
  {
   "cell_type": "code",
   "execution_count": null,
   "metadata": {},
   "outputs": [],
   "source": [
    "# # # test of get_value functionality\n",
    "# mock_nn = MockNnTerminal()\n",
    "# # mock_nn = ValueNn()\n",
    "# next_round_value = NextRoundValue(mock_nn)\n",
    "\n",
    "# # bets = np.array([100], dtype=float)\n",
    "# bets = np.array([1200], dtype=float)\n",
    "\n",
    "# next_round_value.start_computation(bets)\n",
    "\n",
    "# ranges = np.full([1,2,CC], 1/4, dtype=arguments.dtype)\n",
    "# values = np.zeros([1,2,CC], dtype=arguments.dtype)\n",
    "\n",
    "# np.random.seed(0)\n",
    "# ranges[0][0] = np.array([1,1,0,0,0,0])\n",
    "# ranges[0][1] = np.array([1,1,1,1,1,1])\n",
    "\n",
    "# next_round_value.get_value(ranges, values)\n",
    "\n",
    "# print(values)\n",
    "\n",
    "# ranges_2 = ranges.reshape([2,CC]).copy()\n",
    "# values_2 = np.full_like(ranges_2, -1)\n",
    "\n",
    "# terminal_equity = TerminalEquity()\n",
    "# terminal_equity.set_board(np.zeros([]))\n",
    "# terminal_equity.call_value(ranges_2, values_2)\n",
    "# print('terminal_equity')\n",
    "# print(values_2)\n",
    "\n",
    "# # output:\n",
    "# # [[[ 2.  2.  0.  0. -2. -2.]\n",
    "# #   [ 0.  0. -1. -1. -1. -1.]]]\n",
    "# # terminal_equity\n",
    "# # [[ 0.  0. -1. -1. -1. -1.]\n",
    "# #  [ 2.  2.  0.  0. -2. -2.]]"
   ]
  },
  {
   "cell_type": "code",
   "execution_count": null,
   "metadata": {},
   "outputs": [],
   "source": [
    "# # needs to comment out some asserts and use_memory = True\n",
    "\n",
    "# board = card_to_string.string_to_board('Ks')\n",
    "\n",
    "# values_3 = np.full_like(values, -1)\n",
    "# next_round_value.get_value_on_board(board, values_3)\n",
    "\n",
    "# print(values_3)\n",
    "\n",
    "# # output:\n",
    "# # [[[ 0.2  0.2  0.   0.8 -0.6 -0.6]\n",
    "# #   [ 0.   0.   0.   1.  -1.  -1. ]]]"
   ]
  },
  {
   "cell_type": "markdown",
   "metadata": {},
   "source": [
    "# Nn output"
   ]
  },
  {
   "cell_type": "code",
   "execution_count": null,
   "metadata": {},
   "outputs": [],
   "source": [
    "# data_dir = os.path.join(arguments.data_path, 'tfrecords')\n",
    "# T = Train(data_dir=data_dir)\n",
    "# T.train(num_epochs=100, verbose=0)\n",
    "# model = T.keras_model"
   ]
  },
  {
   "cell_type": "code",
   "execution_count": null,
   "metadata": {},
   "outputs": [],
   "source": [
    "# npy_folder = r'C:\\Users\\domin\\Documents\\GitHub\\PyStack\\Data\\TrainSamples\\PotBet\\npy'\n",
    "# m = np.load(npy_folder + r'\\masks.0.npy')\n",
    "# x = np.load(npy_folder + r'\\inputs.0.npy')\n",
    "# y = np.load(npy_folder + r'\\targets.0.npy')\n",
    "\n",
    "# y_hat = model.predict(x)\n",
    "\n",
    "# temp = m[0]\n",
    "# m = np.zeros([72])\n",
    "# m[:36] = temp\n",
    "# m[36:] = temp\n",
    "# x = x[0]\n",
    "# y = y[0]\n",
    "# y_hat = y_hat[0]\n",
    "\n",
    "# d = np.dot(y_hat, x[:-1])\n",
    "# d /= 2\n",
    "# y_new = y_hat - d\n",
    "# y_new = y_hat\n",
    "\n",
    "# (y_new*m)[:36] - (y_new*m)[36:]"
   ]
  },
  {
   "cell_type": "markdown",
   "metadata": {},
   "source": [
    "# Continual Re-solving in Tree"
   ]
  },
  {
   "cell_type": "code",
   "execution_count": null,
   "metadata": {},
   "outputs": [],
   "source": [
    "# board = card_to_string.string_to_board('')"
   ]
  },
  {
   "cell_type": "code",
   "execution_count": null,
   "metadata": {},
   "outputs": [],
   "source": [
    "# params = TreeParams()\n",
    "# params.root_node = Node()\n",
    "# params.root_node.board = board\n",
    "# params.root_node.street = 1\n",
    "# params.root_node.current_player = constants.players.P1\n",
    "# params.root_node.bets = np.array([300, 300])\n",
    "# params.limit_to_street = False\n",
    "# tree = tree_builder.build_tree(params)"
   ]
  },
  {
   "cell_type": "code",
   "execution_count": null,
   "metadata": {},
   "outputs": [],
   "source": [
    "# filling = TreeStrategyFilling()\n",
    "\n",
    "# range1 = card_tools.get_uniform_range(board)\n",
    "# range2 = card_tools.get_uniform_range(board)\n",
    "\n",
    "# filling.fill_strategies(tree, P1, range1, range2)\n",
    "# filling.fill_strategies(tree, P2, range1, range2)"
   ]
  },
  {
   "cell_type": "code",
   "execution_count": null,
   "metadata": {},
   "outputs": [],
   "source": [
    "# starting_ranges = np.zeros([PC,CC], dtype=arguments.dtype)\n",
    "# starting_ranges[0] = card_tools.get_uniform_range(params.root_node.board)\n",
    "# starting_ranges[1] = card_tools.get_uniform_range(params.root_node.board)\n",
    "\n",
    "# tree_values = TreeValues()\n",
    "# tree_values.compute_values(tree, starting_ranges)\n",
    "\n",
    "# print('Exploitability: ' + str(tree.exploitability) + ' [chips]' )"
   ]
  },
  {
   "cell_type": "code",
   "execution_count": null,
   "metadata": {},
   "outputs": [],
   "source": [
    "# tree_visualizer.draw_tree(tree, size='20,10')"
   ]
  },
  {
   "cell_type": "markdown",
   "metadata": {},
   "source": [
    "# Range generation"
   ]
  },
  {
   "cell_type": "code",
   "execution_count": null,
   "metadata": {},
   "outputs": [],
   "source": [
    "# import plotly.plotly as py\n",
    "# import plotly.graph_objs as go\n",
    "# def plot(x, x2=None, num_buckets=1000, clip=10, title='', x_name='', x2_name=''):\n",
    "#     bins = np.linspace(0, 1, num_buckets)\n",
    "#     inds = np.digitize(x, bins)\n",
    "#     bucketized_x = bins[ inds ]\n",
    "#     bucketized_x_counts = np.zeros([I, num_buckets])\n",
    "#     for i in range(bucketized_x.shape[1]):\n",
    "#         x_, counts = np.unique(bucketized_x[:,i], return_counts=True)\n",
    "#         bucketized_x_counts[i, :len(counts) ] = counts\n",
    "# #     bucketized_x_counts /= x.shape[0]\n",
    "#     bucketized_x_counts = np.transpose(bucketized_x_counts, [1,0])\n",
    "#     bucketized_x_counts = bucketized_x_counts[ :clip , : ]\n",
    "#     x_axis = bins\n",
    "#     x_axis = x_axis[:clip]\n",
    "    \n",
    "#     data = []\n",
    "    \n",
    "#     data.append(go.Surface(\n",
    "#                     z=bucketized_x_counts,\n",
    "#                     y=x_axis,\n",
    "#                     name=x_name\n",
    "#                 ))\n",
    "    \n",
    "#     if x2 is not None:\n",
    "#         inds = np.digitize(x2, bins)\n",
    "#         bucketized_x = bins[ inds ]\n",
    "#         bucketized_x_counts = np.zeros([I, num_buckets])\n",
    "#         for i in range(bucketized_x.shape[1]):\n",
    "#             x_, counts = np.unique(bucketized_x[:,i], return_counts=True)\n",
    "#             bucketized_x_counts[i, :len(counts) ] = counts\n",
    "# #         bucketized_x_counts /= x.shape[0]\n",
    "#         bucketized_x_counts = np.transpose(bucketized_x_counts, [1,0])\n",
    "#         bucketized_x_counts = bucketized_x_counts[ :clip , : ]\n",
    "#         data.append(go.Surface(\n",
    "#                     z=bucketized_x_counts,\n",
    "#                     y=x_axis,\n",
    "#                     name=x2_name\n",
    "#                 ))\n",
    "    \n",
    "#     layout = go.Layout(\n",
    "#         showlegend=True,\n",
    "#         title=title,\n",
    "#         autosize=False,\n",
    "#         width=500,\n",
    "#         height=500,\n",
    "#         margin=dict(\n",
    "#             l=65,\n",
    "#             r=50,\n",
    "#             b=65,\n",
    "#             t=90\n",
    "#         ),\n",
    "#         xaxis=dict(\n",
    "#             tickmode='linear',\n",
    "#             ticks='outside',\n",
    "#             tick0=0,\n",
    "#             dtick=1/num_buckets,\n",
    "#             ticklen=1,\n",
    "# #             tickcolor='#000'\n",
    "#         )\n",
    "#     )\n",
    "#     fig = go.Figure(data=data, layout=layout)\n",
    "#     return py.iplot(fig, filename='elevations-3d-surface')"
   ]
  },
  {
   "cell_type": "code",
   "execution_count": null,
   "metadata": {},
   "outputs": [],
   "source": [
    "# x = np.random.rand(batch_size,I)\n",
    "# x = x / np.sum(x, axis=1).reshape([batch_size,1])\n",
    "# plot(x, num_buckets=num_buckets, clip=clip)"
   ]
  },
  {
   "cell_type": "code",
   "execution_count": null,
   "metadata": {},
   "outputs": [],
   "source": [
    "# I = 100\n",
    "# batch_size = 1000\n",
    "# ranges = np.zeros([batch_size,I])\n",
    "# _generate_sorted_range(ranges)\n",
    "# ranges\n",
    "# x = ranges[ : , 0 ]\n",
    "# y = np.arange(len(x))\n",
    "# scatterplot(x,y)"
   ]
  },
  {
   "cell_type": "code",
   "execution_count": null,
   "metadata": {},
   "outputs": [],
   "source": [
    "# x = np.random.rand(batch_size,I)\n",
    "# x = x / np.sum(x, axis=1).reshape([batch_size,1])\n",
    "# x = x[ : , 2 ]\n",
    "# scatterplot(x,y)"
   ]
  },
  {
   "cell_type": "code",
   "execution_count": null,
   "metadata": {},
   "outputs": [],
   "source": [
    "def scatterplot(x, y):\n",
    "    trace = go.Scatter(\n",
    "        x = x,\n",
    "        y = y,\n",
    "        mode = 'markers'\n",
    "    )\n",
    "\n",
    "    data = [trace]\n",
    "\n",
    "    return py.iplot(data, filename='basic-scatter')"
   ]
  },
  {
   "cell_type": "code",
   "execution_count": null,
   "metadata": {},
   "outputs": [],
   "source": [
    "def to_buckets2d(x, num_buckets, clip):\n",
    "    bins = np.linspace(0, 1, num_buckets)\n",
    "    inds = np.digitize(x, bins)\n",
    "    bucketized_x = bins[ inds ]\n",
    "    bucketized_x_counts = np.zeros([I, num_buckets])\n",
    "    for i in range(bucketized_x.shape[1]):\n",
    "        x_, counts = np.unique(bucketized_x[:,i], return_counts=True)\n",
    "        bucketized_x_counts[i, :len(counts) ] = counts\n",
    "    bucketized_x_counts /= batch_size\n",
    "    bucketized_x_counts = np.mean(bucketized_x_counts, axis=0)\n",
    "    bucketized_x_counts = bucketized_x_counts[ :clip ]\n",
    "    bins = bins[ :clip ]\n",
    "    return bucketized_x_counts, bins"
   ]
  },
  {
   "cell_type": "code",
   "execution_count": null,
   "metadata": {},
   "outputs": [],
   "source": [
    "def plot2d(x1, x2, bins, x1_name='', x2_name=''):\n",
    "    trace1 = go.Scatter(\n",
    "        x = bins,\n",
    "        y = x1,\n",
    "        mode = 'lines',\n",
    "        name = x1_name\n",
    "    )\n",
    "    trace2 = go.Scatter(\n",
    "        x = bins,\n",
    "        y = x2,\n",
    "        mode = 'lines',\n",
    "        name = x2_name\n",
    "    )\n",
    "\n",
    "    data = [trace1, trace2]\n",
    "    return py.iplot(data, filename='scatter-mode')"
   ]
  },
  {
   "cell_type": "code",
   "execution_count": null,
   "metadata": {},
   "outputs": [],
   "source": [
    "# I = 1300\n",
    "# batch_size = 10000\n",
    "# clip = 1000\n",
    "# num_buckets = 10000\n",
    "# ranges = np.zeros([batch_size,I])\n",
    "# _generate_sorted_range(ranges)\n",
    "# x = np.random.rand(batch_size,I)\n",
    "# x = x / np.sum(x, axis=1).reshape([batch_size,1])\n",
    "# x1, bins = to_buckets2d(x, num_buckets, clip)\n",
    "# x2, bins = to_buckets2d(ranges, num_buckets, clip)\n",
    "# plot2d(x1, x2, bins, x1_name='Random', x2_name='Recursive')"
   ]
  },
  {
   "cell_type": "code",
   "execution_count": null,
   "metadata": {},
   "outputs": [],
   "source": [
    "\n",
    "# ranges = np.zeros([batch_size,I])\n",
    "# _generate_sorted_range(ranges)\n",
    "# x = np.random.rand(batch_size,I)\n",
    "# x = x / np.sum(x, axis=1).reshape([batch_size,1])\n",
    "# plot(x, x2=ranges, num_buckets=num_buckets, clip=clip, x2_name='Recursive', x_name='Random')"
   ]
  },
  {
   "cell_type": "code",
   "execution_count": null,
   "metadata": {},
   "outputs": [],
   "source": [
    "# bucketized_x_counts = np.zeros([I, num_buckets])\n",
    "# for i in range(bucketized_x.shape[1]):\n",
    "#     x_, counts = np.unique(bucketized_x[:,i], return_counts=True)\n",
    "#     bucketized_x_counts[i, :len(counts) ] = counts\n",
    "# bucketized_x_counts /= el\n",
    "# bucketized_x_counts = np.transpose(bucketized_x_counts, [1,0])"
   ]
  },
  {
   "cell_type": "code",
   "execution_count": null,
   "metadata": {},
   "outputs": [],
   "source": [
    "# x_axis = bins"
   ]
  },
  {
   "cell_type": "code",
   "execution_count": null,
   "metadata": {},
   "outputs": [],
   "source": [
    "# clip = 10\n",
    "# bucketized_x_counts = bucketized_x_counts[ :clip , : ]\n",
    "# x_axis = x_axis[:clip]"
   ]
  },
  {
   "cell_type": "code",
   "execution_count": null,
   "metadata": {},
   "outputs": [],
   "source": [
    "# print(bucketized_x_counts.shape)\n",
    "# print(x_axis.shape)"
   ]
  },
  {
   "cell_type": "code",
   "execution_count": null,
   "metadata": {},
   "outputs": [],
   "source": []
  }
 ],
 "metadata": {
  "kernelspec": {
   "display_name": "'tf'",
   "language": "python",
   "name": "tf"
  },
  "language_info": {
   "codemirror_mode": {
    "name": "ipython",
    "version": 3
   },
   "file_extension": ".py",
   "mimetype": "text/x-python",
   "name": "python",
   "nbconvert_exporter": "python",
   "pygments_lexer": "ipython3",
   "version": "3.6.7"
  }
 },
 "nbformat": 4,
 "nbformat_minor": 2
}
