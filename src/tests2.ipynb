{
 "cells": [
  {
   "cell_type": "code",
   "execution_count": 1,
   "metadata": {},
   "outputs": [],
   "source": [
    "import sys\n",
    "# # sys.setrecursionlimit(10000)\n",
    "import os\n",
    "sys.path.append( os.getcwd() )\n",
    "os.chdir('..')\n",
    "from tqdm import tqdm"
   ]
  },
  {
   "cell_type": "code",
   "execution_count": 2,
   "metadata": {},
   "outputs": [],
   "source": [
    "from time import time\n",
    "import numpy as np\n",
    "from Tree.tree_builder import tree_builder\n",
    "from Tree.tree_values import TreeValues\n",
    "from Tree.tree_visualizer import tree_visualizer\n",
    "from Tree.tree_cfr import TreeCFR\n",
    "from helper_classes import TreeParams, Node\n",
    "from Game.card_to_string_conversion import card_to_string\n",
    "from Game.card_tools import card_tools\n",
    "from Game.card_combinations import card_combinations\n",
    "from Settings.constants import constants\n",
    "from Settings.arguments import arguments\n",
    "from NeuralNetwork.value_nn import ValueNn\n",
    "from NeuralNetwork.metrics import BasicHuberLoss\n",
    "from TerminalEquity.terminal_equity import TerminalEquity\n",
    "from TerminalEquity.evaluator import evaluator\n",
    "from Lookahead.resolving import Resolving\n",
    "from DataGeneration.range_generator import RangeGenerator\n",
    "from Player.continual_resolving import ContinualResolving"
   ]
  },
  {
   "cell_type": "code",
   "execution_count": 3,
   "metadata": {},
   "outputs": [],
   "source": [
    "PC = constants.players_count\n",
    "CC = constants.card_count\n",
    "HC = constants.hand_count\n",
    "P1 = constants.players.P1\n",
    "P2 = constants.players.P2\n",
    "sb = arguments.sb\n",
    "bb = arguments.bb"
   ]
  },
  {
   "cell_type": "code",
   "execution_count": 4,
   "metadata": {},
   "outputs": [],
   "source": [
    "%load_ext line_profiler\n",
    "def asd(boards):\n",
    "    for board in boards:\n",
    "        card_tools.get_possible_hand_indexes(board)\n",
    "boards = card_tools.get_next_round_boards(card_to_string.string_to_board(''))\n",
    "# %lprun -f card_tools.get_possible_hand_indexes asd(boards)\n",
    "# %timeit asd(boards)"
   ]
  },
  {
   "cell_type": "code",
   "execution_count": 5,
   "metadata": {},
   "outputs": [],
   "source": [
    "# %timeit card_tools.get_next_round_boards(card_to_string.string_to_board('2c3c4c'))"
   ]
  },
  {
   "cell_type": "code",
   "execution_count": 6,
   "metadata": {},
   "outputs": [],
   "source": [
    "# nn = ValueNn(3, approximate='root_nodes', pretrained_weights=True, verbose=0)"
   ]
  },
  {
   "cell_type": "code",
   "execution_count": 7,
   "metadata": {},
   "outputs": [],
   "source": [
    "# b = 10000\n",
    "# x = np.random.rand(b,1326*2+1+69)\n",
    "# from time import time\n",
    "# t = time()\n",
    "# for j in range(10):\n",
    "#     nn.keras_model.predict(x, batch_size=1000)\n",
    "# print(time()-t)"
   ]
  },
  {
   "cell_type": "code",
   "execution_count": null,
   "metadata": {},
   "outputs": [],
   "source": []
  },
  {
   "cell_type": "code",
   "execution_count": 8,
   "metadata": {},
   "outputs": [
    {
     "name": "stdout",
     "output_type": "stream",
     "text": [
      "Build time: 0.0\n"
     ]
    },
    {
     "name": "stderr",
     "output_type": "stream",
     "text": [
      "100%|█████████████████████████████████████████████████████████████████████████████| 1000/1000 [00:01<00:00, 679.12it/s]\n"
     ]
    },
    {
     "name": "stdout",
     "output_type": "stream",
     "text": [
      "WARNING: THERE ARE NO NODES THAT NEEDS APPROXIMATION (lookahead.cfvs_approximator is not defined)\n",
      "Resolve time: 1.4724974632263184\n",
      "printing batch: 0\n",
      "root_cfvs - (1, 1326)\n",
      "[ 5649.93  5649.93  6285.92 12982.95 12982.95 12982.95]\n",
      "root_cfvs_both_players - (1, 2, 1326)\n",
      "[ 5649.93  5649.93  6285.92 12982.95 12982.95 12982.95]\n",
      "[2687.57 2687.57 2959.6  6020.6  6020.6  6020.6 ]\n",
      "achieved_cfvs - (1, 2, 1326)\n",
      "[2687.57 2687.57 2959.6  6020.6  6020.6  6020.6 ]\n",
      "[ 5649.93  5649.93  6285.92 12982.95 12982.95 12982.95]\n",
      "strategy - (2, 1, 1326)\n",
      "[[0. 0. 0. 0. 0. 0.]\n",
      " [1. 1. 1. 1. 1. 1.]]\n"
     ]
    }
   ],
   "source": [
    "# ranges = np.load('test_ranges/river_nl.npy')\n",
    "# player_range = ranges[0].reshape([1,-1])\n",
    "# opponent_range = ranges[1].reshape([1,-1])\n",
    "player_range = np.full([1,HC], 1/HC, dtype=arguments.dtype)\n",
    "opponent_range = np.full([1,HC], 1/HC, dtype=arguments.dtype)\n",
    "\n",
    "current_node = Node()\n",
    "current_node.board = card_to_string.string_to_board('')\n",
    "current_node.street = 1\n",
    "current_node.current_player = constants.players.P2\n",
    "current_node.bets = np.array([20000, 100], dtype=arguments.dtype)\n",
    "current_node.num_bets = 0\n",
    "\n",
    "te = TerminalEquity()\n",
    "te.set_board(current_node.board)\n",
    "\n",
    "# range_generator = RangeGenerator()\n",
    "# range_generator.set_board(te, current_node.board)\n",
    "# player_range = np.zeros([1,1326])\n",
    "# range_generator.generate_range(player_range)\n",
    "# opponent_range = np.zeros([1,1326])\n",
    "# range_generator.generate_range(opponent_range)\n",
    "\n",
    "resolving = Resolving(te, verbose=1)\n",
    "\n",
    "river_results = resolving.resolve(current_node, player_range, opponent_range) "
   ]
  },
  {
   "cell_type": "code",
   "execution_count": 10,
   "metadata": {},
   "outputs": [
    {
     "name": "stdout",
     "output_type": "stream",
     "text": [
      "\n",
      "[[0. 0. 0. 0. 0. 0. 0. 0. 0. 0. 0. 0. 0. 0.]\n",
      " [1. 1. 1. 1. 1. 1. 1. 1. 1. 1. 1. 1. 1. 1.]]\n",
      "\n",
      "[[0. 0. 0. 0. 0. 0. 0. 0. 0. 0. 0. 0. 0. 0.]\n",
      " [1. 1. 1. 1. 1. 1. 1. 1. 1. 1. 1. 1. 1. 1.]]\n",
      "\n",
      "[[0. 0. 0. 0. 0. 0. 0. 0. 0. 0. 0. 0. 0. 0.]\n",
      " [1. 1. 1. 1. 1. 1. 1. 1. 1. 1. 1. 1. 1. 1.]]\n",
      "\n",
      "[[0. 0. 0. 0. 0. 0. 0. 0. 0. 0. 0. 0. 0. 0.]\n",
      " [1. 1. 1. 1. 1. 1. 1. 1. 1. 1. 1. 1. 1. 1.]]\n",
      "\n",
      "[[0. 0. 0. 0. 0. 0. 0. 0. 0. 0. 0. 0. 0. 0.]\n",
      " [1. 1. 1. 1. 1. 1. 1. 1. 1. 1. 1. 1. 1. 1.]]\n",
      "\n",
      "[[0. 0. 0. 0. 0. 0. 0. 0. 0. 0. 0. 0. 0. 0.]\n",
      " [1. 1. 1. 1. 1. 1. 1. 1. 1. 1. 1. 1. 1. 1.]]\n",
      "\n",
      "[[0. 0. 0. 0. 0. 0. 0. 0. 0. 0. 0. 0. 0. 0.]\n",
      " [1. 1. 1. 1. 1. 1. 1. 1. 1. 1. 1. 1. 1. 1.]]\n",
      "\n",
      "[[0. 0. 0. 0. 0. 0. 0. 0. 0. 0. 0. 0. 0. 0.]\n",
      " [1. 1. 1. 1. 1. 1. 1. 1. 1. 1. 1. 1. 1. 1.]]\n",
      "\n",
      "[[0. 0. 0. 0. 0. 0. 0. 0. 0. 0. 0. 0. 0. 0.]\n",
      " [1. 1. 1. 1. 1. 1. 1. 1. 1. 1. 1. 1. 1. 1.]]\n",
      "\n",
      "[[0. 0. 0. 0. 0. 0. 0. 0. 0. 0. 0. 0. 0. 0.]\n",
      " [1. 1. 1. 1. 1. 1. 1. 1. 1. 1. 1. 1. 1. 1.]]\n"
     ]
    }
   ],
   "source": [
    "\n",
    "s = river_results.strategy[:,0,:]\n",
    "j = 8\n",
    "for i in range(10):\n",
    "    start_idx = 14*i + 140*j\n",
    "    x = 14\n",
    "    print()\n",
    "    print(np.array2string(s[:,start_idx:start_idx+x], suppress_small=True, precision=2))"
   ]
  },
  {
   "cell_type": "code",
   "execution_count": 8,
   "metadata": {},
   "outputs": [],
   "source": [
    "import pickle\n",
    "\n",
    "def store_resolve_results(bets, results):\n",
    "        results_dir = os.path.join(arguments.cache_path, '{}_{}'.format(bets[0], bets[1]))\n",
    "        # create dir\n",
    "        # store everything in pickle file except next_street_cfvs store seperately\n",
    "#         np.save(os.path.join(results_dir, 'next_street_cfvs'), results.next_street_cfvs)\n",
    "        results.next_street_cfvs = None\n",
    "        pickle.dump(results, open(os.path.join(results_dir, 'results.pkl'), 'wb'))\n",
    "\n",
    "store_resolve_results([arguments.sb, arguments.bb], river_results)"
   ]
  },
  {
   "cell_type": "code",
   "execution_count": 7,
   "metadata": {},
   "outputs": [
    {
     "data": {
      "text/plain": [
       "(5, 22100, 2, 1326)"
      ]
     },
     "execution_count": 7,
     "metadata": {},
     "output_type": "execute_result"
    }
   ],
   "source": [
    "a = np.load('./Data/cache/50_100/next_street_cfvs.npy')\n",
    "a.shape"
   ]
  },
  {
   "cell_type": "code",
   "execution_count": 16,
   "metadata": {},
   "outputs": [
    {
     "data": {
      "text/plain": [
       "28.0"
      ]
     },
     "execution_count": 16,
     "metadata": {},
     "output_type": "execute_result"
    }
   ],
   "source": [
    "b = s[3,:]\n",
    "a = np.zeros_like(b)\n",
    "a[b>9e-1] = 1\n",
    "a.sum()"
   ]
  },
  {
   "cell_type": "code",
   "execution_count": 9,
   "metadata": {},
   "outputs": [
    {
     "data": {
      "text/plain": [
       "array([   -2,    -1,   300, 20000], dtype=int16)"
      ]
     },
     "execution_count": 9,
     "metadata": {},
     "output_type": "execute_result"
    }
   ],
   "source": [
    "river_results.actions"
   ]
  },
  {
   "cell_type": "code",
   "execution_count": 11,
   "metadata": {},
   "outputs": [
    {
     "data": {
      "text/plain": [
       "1200.0"
      ]
     },
     "execution_count": 11,
     "metadata": {},
     "output_type": "execute_result"
    }
   ],
   "source": [
    "a = river_results.next_street_cfvs[0,0]\n",
    "x1 = 1340/8000\n",
    "x2 = 1360/8000\n",
    "b = np.ones_like(a)\n",
    "b[a < x1] = 0\n",
    "b[a > x2] = 0\n",
    "b.sum()"
   ]
  },
  {
   "cell_type": "code",
   "execution_count": 7,
   "metadata": {},
   "outputs": [
    {
     "data": {
      "image/svg+xml": [
       "<?xml version=\"1.0\" encoding=\"UTF-8\" standalone=\"no\"?>\r\n",
       "<!DOCTYPE svg PUBLIC \"-//W3C//DTD SVG 1.1//EN\"\r\n",
       " \"http://www.w3.org/Graphics/SVG/1.1/DTD/svg11.dtd\">\r\n",
       "<!-- Generated by graphviz version 2.38.0 (20140413.2041)\r\n",
       " -->\r\n",
       "<!-- Title: tree Pages: 1 -->\r\n",
       "<svg width=\"70pt\" height=\"103pt\"\r\n",
       " viewBox=\"0.00 0.00 70.00 103.00\" xmlns=\"http://www.w3.org/2000/svg\" xmlns:xlink=\"http://www.w3.org/1999/xlink\">\r\n",
       "<g id=\"graph0\" class=\"graph\" transform=\"scale(1 1) rotate(0) translate(4 99)\">\r\n",
       "<title>tree</title>\r\n",
       "<polygon fill=\"#fffef9\" stroke=\"none\" points=\"-4,4 -4,-99 66,-99 66,4 -4,4\"/>\r\n",
       "<!-- 0 -->\r\n",
       "<g id=\"node1\" class=\"node\"><title>0</title>\r\n",
       "<ellipse fill=\"#6f7c85\" stroke=\"#6f7c85\" cx=\"31\" cy=\"-84\" rx=\"11\" ry=\"11\"/>\r\n",
       "<text text-anchor=\"middle\" x=\"31\" y=\"-80.3\" font-family=\"Times New Roman,serif\" font-size=\"14.00\" fill=\"#fffef9\">1</text>\r\n",
       "</g>\r\n",
       "<!-- 1 -->\r\n",
       "<g id=\"node2\" class=\"node\"><title>1</title>\r\n",
       "<ellipse fill=\"#d11141\" stroke=\"#d11141\" cx=\"11\" cy=\"-11\" rx=\"11\" ry=\"11\"/>\r\n",
       "<text text-anchor=\"middle\" x=\"11\" y=\"-7.3\" font-family=\"Times New Roman,serif\" font-size=\"14.00\" fill=\"#fffef9\">0</text>\r\n",
       "</g>\r\n",
       "<!-- 0&#45;&gt;1 -->\r\n",
       "<g id=\"edge1\" class=\"edge\"><title>0&#45;&gt;1</title>\r\n",
       "<path fill=\"none\" stroke=\"#e6e6ea\" d=\"M26.8285,-73.5498C24.578,-68.1868 21.8838,-61.3053 20,-55 17.7962,-47.6236 15.931,-39.3792 14.4802,-32.098\"/>\r\n",
       "<polygon fill=\"#e6e6ea\" stroke=\"#e6e6ea\" points=\"17.8761,-31.2154 12.606,-22.0243 10.9942,-32.4958 17.8761,-31.2154\"/>\r\n",
       "<text text-anchor=\"middle\" x=\"24.5\" y=\"-43.8\" font-family=\"Times New Roman,serif\" font-size=\"14.00\" fill=\"#03396c\">F</text>\r\n",
       "</g>\r\n",
       "<!-- 2 -->\r\n",
       "<g id=\"node3\" class=\"node\"><title>2</title>\r\n",
       "<ellipse fill=\"#00aedb\" stroke=\"#00aedb\" cx=\"51\" cy=\"-11\" rx=\"11\" ry=\"11\"/>\r\n",
       "<text text-anchor=\"middle\" x=\"51\" y=\"-7.3\" font-family=\"Times New Roman,serif\" font-size=\"14.00\" fill=\"#fffef9\">0</text>\r\n",
       "</g>\r\n",
       "<!-- 0&#45;&gt;2 -->\r\n",
       "<g id=\"edge2\" class=\"edge\"><title>0&#45;&gt;2</title>\r\n",
       "<path fill=\"none\" stroke=\"#e6e6ea\" d=\"M33.7809,-73.1278C36.796,-62.4243 41.6858,-45.0655 45.4856,-31.5761\"/>\r\n",
       "<polygon fill=\"#e6e6ea\" stroke=\"#e6e6ea\" points=\"48.9001,-32.3628 48.2427,-21.7884 42.1624,-30.4648 48.9001,-32.3628\"/>\r\n",
       "<text text-anchor=\"middle\" x=\"47\" y=\"-43.8\" font-family=\"Times New Roman,serif\" font-size=\"14.00\" fill=\"#03396c\">C</text>\r\n",
       "</g>\r\n",
       "</g>\r\n",
       "</svg>\r\n"
      ],
      "text/plain": [
       "<graphviz.dot.Digraph at 0x2293a7723c8>"
      ]
     },
     "execution_count": 7,
     "metadata": {},
     "output_type": "execute_result"
    }
   ],
   "source": [
    "tree_visualizer.draw_tree( resolving.lookahead_tree )"
   ]
  },
  {
   "cell_type": "code",
   "execution_count": 14,
   "metadata": {},
   "outputs": [
    {
     "name": "stdout",
     "output_type": "stream",
     "text": [
      "{-1: 0, 300: 1, 20000: 2}{-1: 0, 300: 1, 20000: 2}\n",
      "\n"
     ]
    }
   ],
   "source": [
    "print( resolving.lookahead.action_to_index)"
   ]
  },
  {
   "cell_type": "code",
   "execution_count": null,
   "metadata": {},
   "outputs": [],
   "source": [
    "next_boards = card_tools.get_next_round_boards(np.zeros([]))\n",
    "BC = next_boards.shape[0]\n",
    "next_boards_features = np.zeros([BC, 69], dtype=arguments.dtype)\n",
    "from tqdm import tqdm\n",
    "for i, next_board in enumerate(tqdm(next_boards)):\n",
    "    next_boards_features[i] = card_tools.convert_board_to_nn_feature(next_board)"
   ]
  },
  {
   "cell_type": "code",
   "execution_count": null,
   "metadata": {},
   "outputs": [],
   "source": [
    "next_boards"
   ]
  },
  {
   "cell_type": "code",
   "execution_count": 15,
   "metadata": {},
   "outputs": [
    {
     "ename": "TypeError",
     "evalue": "exists() got an unexpected keyword argument 'bets'",
     "output_type": "error",
     "traceback": [
      "\u001b[1;31m---------------------------------------------------------------------------\u001b[0m",
      "\u001b[1;31mTypeError\u001b[0m                                 Traceback (most recent call last)",
      "\u001b[1;32m<ipython-input-15-e504007ef2d7>\u001b[0m in \u001b[0;36m<module>\u001b[1;34m\u001b[0m\n\u001b[1;32m----> 1\u001b[1;33m \u001b[0mdeepstack\u001b[0m \u001b[1;33m=\u001b[0m \u001b[0mContinualResolving\u001b[0m\u001b[1;33m(\u001b[0m\u001b[1;33m)\u001b[0m\u001b[1;33m\u001b[0m\u001b[1;33m\u001b[0m\u001b[0m\n\u001b[0m",
      "\u001b[1;32m~\\Documents\\GitHub\\PyStack\\src\\Player\\continual_resolving.py\u001b[0m in \u001b[0;36m__init__\u001b[1;34m(self, verbose)\u001b[0m\n\u001b[0;32m     24\u001b[0m                 \u001b[0mself\u001b[0m\u001b[1;33m.\u001b[0m\u001b[0mterminal_equity\u001b[0m \u001b[1;33m=\u001b[0m \u001b[0mTerminalEquity\u001b[0m\u001b[1;33m(\u001b[0m\u001b[1;33m)\u001b[0m\u001b[1;33m\u001b[0m\u001b[1;33m\u001b[0m\u001b[0m\n\u001b[0;32m     25\u001b[0m                 \u001b[0mself\u001b[0m\u001b[1;33m.\u001b[0m\u001b[0mcache\u001b[0m \u001b[1;33m=\u001b[0m \u001b[0mCache\u001b[0m\u001b[1;33m(\u001b[0m\u001b[0mdir_path\u001b[0m\u001b[1;33m=\u001b[0m\u001b[0marguments\u001b[0m\u001b[1;33m.\u001b[0m\u001b[0mcache_path\u001b[0m\u001b[1;33m)\u001b[0m\u001b[1;33m\u001b[0m\u001b[1;33m\u001b[0m\u001b[0m\n\u001b[1;32m---> 26\u001b[1;33m                 \u001b[0mself\u001b[0m\u001b[1;33m.\u001b[0m\u001b[0m_compute_initial_opponent_cfvs\u001b[0m\u001b[1;33m(\u001b[0m\u001b[1;33m)\u001b[0m\u001b[1;33m\u001b[0m\u001b[1;33m\u001b[0m\u001b[0m\n\u001b[0m\u001b[0;32m     27\u001b[0m \u001b[1;33m\u001b[0m\u001b[0m\n\u001b[0;32m     28\u001b[0m \u001b[1;33m\u001b[0m\u001b[0m\n",
      "\u001b[1;32m~\\Documents\\GitHub\\PyStack\\src\\Player\\continual_resolving.py\u001b[0m in \u001b[0;36m_compute_initial_opponent_cfvs\u001b[1;34m(self)\u001b[0m\n\u001b[0;32m    153\u001b[0m \t\t'''\n\u001b[0;32m    154\u001b[0m                 \u001b[0mP1\u001b[0m\u001b[1;33m,\u001b[0m \u001b[0mP2\u001b[0m \u001b[1;33m=\u001b[0m \u001b[0mconstants\u001b[0m\u001b[1;33m.\u001b[0m\u001b[0mplayers\u001b[0m\u001b[1;33m.\u001b[0m\u001b[0mP1\u001b[0m\u001b[1;33m,\u001b[0m \u001b[0mconstants\u001b[0m\u001b[1;33m.\u001b[0m\u001b[0mplayers\u001b[0m\u001b[1;33m.\u001b[0m\u001b[0mP2\u001b[0m\u001b[1;33m\u001b[0m\u001b[1;33m\u001b[0m\u001b[0m\n\u001b[1;32m--> 155\u001b[1;33m                 \u001b[1;32mif\u001b[0m \u001b[0mself\u001b[0m\u001b[1;33m.\u001b[0m\u001b[0mcache\u001b[0m\u001b[1;33m.\u001b[0m\u001b[0mexists\u001b[0m\u001b[1;33m(\u001b[0m\u001b[0mbets\u001b[0m\u001b[1;33m=\u001b[0m\u001b[1;33m[\u001b[0m\u001b[0marguments\u001b[0m\u001b[1;33m.\u001b[0m\u001b[0msb\u001b[0m\u001b[1;33m,\u001b[0m \u001b[0marguments\u001b[0m\u001b[1;33m.\u001b[0m\u001b[0mbb\u001b[0m\u001b[1;33m]\u001b[0m\u001b[1;33m)\u001b[0m\u001b[1;33m:\u001b[0m\u001b[1;33m\u001b[0m\u001b[1;33m\u001b[0m\u001b[0m\n\u001b[0m\u001b[0;32m    156\u001b[0m                         \u001b[0mresults\u001b[0m \u001b[1;33m=\u001b[0m \u001b[0mself\u001b[0m\u001b[1;33m.\u001b[0m\u001b[0mcache\u001b[0m\u001b[1;33m.\u001b[0m\u001b[0mget_resolve_results\u001b[0m\u001b[1;33m(\u001b[0m\u001b[0mbets\u001b[0m\u001b[1;33m=\u001b[0m\u001b[1;33m[\u001b[0m\u001b[0marguments\u001b[0m\u001b[1;33m.\u001b[0m\u001b[0msb\u001b[0m\u001b[1;33m,\u001b[0m \u001b[0marguments\u001b[0m\u001b[1;33m.\u001b[0m\u001b[0mbb\u001b[0m\u001b[1;33m]\u001b[0m\u001b[1;33m)\u001b[0m\u001b[1;33m\u001b[0m\u001b[1;33m\u001b[0m\u001b[0m\n\u001b[0;32m    157\u001b[0m                 \u001b[1;32melse\u001b[0m\u001b[1;33m:\u001b[0m \u001b[1;31m# solve\u001b[0m\u001b[1;33m\u001b[0m\u001b[1;33m\u001b[0m\u001b[0m\n",
      "\u001b[1;31mTypeError\u001b[0m: exists() got an unexpected keyword argument 'bets'"
     ]
    }
   ],
   "source": [
    "deepstack = ContinualResolving()"
   ]
  },
  {
   "cell_type": "code",
   "execution_count": null,
   "metadata": {},
   "outputs": [],
   "source": [
    "deepstack.starting_cfvs_as_P2"
   ]
  },
  {
   "cell_type": "code",
   "execution_count": null,
   "metadata": {},
   "outputs": [],
   "source": [
    "deepstack.start_new_hand('Ac','Ah',player_is_small_blind=True)"
   ]
  },
  {
   "cell_type": "code",
   "execution_count": null,
   "metadata": {},
   "outputs": [],
   "source": [
    "# deepstack.compute_action('', player_bet=50, opponent_bet=100)"
   ]
  },
  {
   "cell_type": "code",
   "execution_count": null,
   "metadata": {},
   "outputs": [],
   "source": [
    "card_combinations.choose(52-4,1)"
   ]
  },
  {
   "cell_type": "code",
   "execution_count": null,
   "metadata": {},
   "outputs": [],
   "source": [
    "card_tools.get_last_round_boards(card_to_string.string_to_board('2c3c4c')).shape"
   ]
  },
  {
   "cell_type": "code",
   "execution_count": null,
   "metadata": {},
   "outputs": [],
   "source": []
  }
 ],
 "metadata": {
  "kernelspec": {
   "display_name": "'tf'",
   "language": "python",
   "name": "tf"
  },
  "language_info": {
   "codemirror_mode": {
    "name": "ipython",
    "version": 3
   },
   "file_extension": ".py",
   "mimetype": "text/x-python",
   "name": "python",
   "nbconvert_exporter": "python",
   "pygments_lexer": "ipython3",
   "version": "3.6.7"
  }
 },
 "nbformat": 4,
 "nbformat_minor": 2
}
