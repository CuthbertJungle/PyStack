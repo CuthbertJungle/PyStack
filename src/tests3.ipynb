{
 "cells": [
  {
   "cell_type": "code",
   "execution_count": 1,
   "metadata": {},
   "outputs": [],
   "source": [
    "import sys\n",
    "# # sys.setrecursionlimit(10000)\n",
    "import os\n",
    "sys.path.append( os.getcwd() )\n",
    "os.chdir('..')\n",
    "from tqdm import tqdm"
   ]
  },
  {
   "cell_type": "code",
   "execution_count": 2,
   "metadata": {},
   "outputs": [],
   "source": [
    "from time import time\n",
    "import numpy as np\n",
    "from Tree.tree_builder import tree_builder\n",
    "from Tree.tree_values import TreeValues\n",
    "from Tree.tree_visualizer import tree_visualizer\n",
    "from Tree.tree_cfr import TreeCFR\n",
    "from helper_classes import TreeParams, Node\n",
    "from Game.card_to_string_conversion import card_to_string\n",
    "from Game.card_tools import card_tools\n",
    "from Game.card_combinations import card_combinations\n",
    "from Settings.constants import constants\n",
    "from Settings.arguments import arguments\n",
    "from NeuralNetwork.value_nn import ValueNn\n",
    "from NeuralNetwork.metrics import BasicHuberLoss\n",
    "from TerminalEquity.terminal_equity import TerminalEquity\n",
    "from TerminalEquity.evaluator import evaluator\n",
    "from Lookahead.resolving import Resolving\n",
    "from DataGeneration.range_generator import RangeGenerator\n",
    "from Player.continual_resolving import ContinualResolving"
   ]
  },
  {
   "cell_type": "code",
   "execution_count": 3,
   "metadata": {},
   "outputs": [],
   "source": [
    "PC = constants.players_count\n",
    "CC = constants.card_count\n",
    "HC = constants.hand_count\n",
    "P1 = constants.players.P1\n",
    "P2 = constants.players.P2\n",
    "sb = arguments.sb\n",
    "bb = arguments.bb"
   ]
  },
  {
   "cell_type": "code",
   "execution_count": 4,
   "metadata": {},
   "outputs": [],
   "source": [
    "%load_ext line_profiler\n",
    "def asd(boards):\n",
    "    for board in boards:\n",
    "        card_tools.get_possible_hand_indexes(board)\n",
    "boards = card_tools.get_next_round_boards(card_to_string.string_to_board(''))\n",
    "# %lprun -f card_tools.get_possible_hand_indexes asd(boards)\n",
    "# %timeit asd(boards)"
   ]
  },
  {
   "cell_type": "code",
   "execution_count": 5,
   "metadata": {},
   "outputs": [],
   "source": [
    "deepstack = ContinualResolving()"
   ]
  },
  {
   "cell_type": "code",
   "execution_count": 6,
   "metadata": {},
   "outputs": [],
   "source": [
    "# tree_visualizer.draw_tree( deepstack.resolving.lookahead_tree )"
   ]
  },
  {
   "cell_type": "code",
   "execution_count": 7,
   "metadata": {},
   "outputs": [
    {
     "data": {
      "text/plain": [
       "array([ 43.083977,  45.523643,  44.322838, ..., 216.45993 , 217.055   ,\n",
       "       218.90306 ], dtype=float32)"
      ]
     },
     "execution_count": 7,
     "metadata": {},
     "output_type": "execute_result"
    }
   ],
   "source": [
    "deepstack.starting_cfvs_as_P1"
   ]
  },
  {
   "cell_type": "code",
   "execution_count": 8,
   "metadata": {},
   "outputs": [],
   "source": [
    "deepstack.start_new_hand('2c','2h',player_is_small_blind=False)"
   ]
  },
  {
   "cell_type": "code",
   "execution_count": 9,
   "metadata": {},
   "outputs": [
    {
     "data": {
      "text/plain": [
       "(1326,)"
      ]
     },
     "execution_count": 9,
     "metadata": {},
     "output_type": "execute_result"
    }
   ],
   "source": [
    "deepstack.player_range.shape"
   ]
  },
  {
   "cell_type": "code",
   "execution_count": 10,
   "metadata": {},
   "outputs": [
    {
     "name": "stdout",
     "output_type": "stream",
     "text": [
      "created node: bets: 300.0/100.0 num_bets: 0 street: 1 i: 1 board: 0\n",
      "num_transition_nodes: [ 300.  900. 2700. 8100.]\n",
      "{-1: 0, 900: 1, 20000: 2}\n"
     ]
    },
    {
     "name": "stderr",
     "output_type": "stream",
     "text": [
      "100%|███████████████████████████████████████████████████████████████████████████| 22100/22100 [00:34<00:00, 644.02it/s]\n",
      "100%|████████████████████████████████████████████████████████████████████████████| 1000/1000 [1:01:41<00:00,  7.47s/it]\n"
     ]
    },
    {
     "name": "stdout",
     "output_type": "stream",
     "text": [
      "[9.9919064e-15 9.9919248e-01 7.2770490e-04 7.9793565e-05]\n",
      "[   -2    -1   900 20000]\n",
      "strat: [0.    0.999 0.001 0.   ], bets: [   -2    -1   900 20000], sampled_bet: -1\n"
     ]
    }
   ],
   "source": [
    "a = deepstack.compute_action('', player_bet=100, opponent_bet=300)"
   ]
  },
  {
   "cell_type": "code",
   "execution_count": 11,
   "metadata": {},
   "outputs": [
    {
     "data": {
      "text/plain": [
       "array([ 65.44637,  66.19749,  65.7249 , ..., 187.35196, 187.20956,\n",
       "       186.86998], dtype=float32)"
      ]
     },
     "execution_count": 11,
     "metadata": {},
     "output_type": "execute_result"
    }
   ],
   "source": [
    "deepstack.opponent_cfvs"
   ]
  },
  {
   "cell_type": "code",
   "execution_count": null,
   "metadata": {},
   "outputs": [],
   "source": [
    "a = deepstack.compute_action('', player_bet=, opponent_bet=100)"
   ]
  },
  {
   "cell_type": "code",
   "execution_count": 11,
   "metadata": {},
   "outputs": [
    {
     "data": {
      "text/plain": [
       "0.0007541478129713424"
      ]
     },
     "execution_count": 11,
     "metadata": {},
     "output_type": "execute_result"
    }
   ],
   "source": [
    "1/1326"
   ]
  },
  {
   "cell_type": "code",
   "execution_count": null,
   "metadata": {},
   "outputs": [],
   "source": [
    "card_combinations.choose(52-4,1)"
   ]
  },
  {
   "cell_type": "code",
   "execution_count": null,
   "metadata": {},
   "outputs": [],
   "source": [
    "card_tools.get_last_round_boards(card_to_string.string_to_board('2c3c4c')).shape"
   ]
  },
  {
   "cell_type": "code",
   "execution_count": null,
   "metadata": {},
   "outputs": [],
   "source": []
  }
 ],
 "metadata": {
  "kernelspec": {
   "display_name": "'tf'",
   "language": "python",
   "name": "tf"
  },
  "language_info": {
   "codemirror_mode": {
    "name": "ipython",
    "version": 3
   },
   "file_extension": ".py",
   "mimetype": "text/x-python",
   "name": "python",
   "nbconvert_exporter": "python",
   "pygments_lexer": "ipython3",
   "version": "3.6.7"
  }
 },
 "nbformat": 4,
 "nbformat_minor": 2
}
